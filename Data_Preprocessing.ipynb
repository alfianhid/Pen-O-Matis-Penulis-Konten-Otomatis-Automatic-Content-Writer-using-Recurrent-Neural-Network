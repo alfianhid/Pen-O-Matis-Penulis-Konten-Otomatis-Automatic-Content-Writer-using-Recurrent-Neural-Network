{
  "nbformat": 4,
  "nbformat_minor": 0,
  "metadata": {
    "colab": {
      "provenance": []
    },
    "kernelspec": {
      "name": "python3",
      "display_name": "Python 3"
    },
    "language_info": {
      "name": "python"
    }
  },
  "cells": [
    {
      "cell_type": "code",
      "metadata": {
        "colab": {
          "base_uri": "https://localhost:8080/"
        },
        "id": "Pr7hz1ntkb7x",
        "outputId": "cd156eb7-1b2d-454b-d6e6-cbc6497f4619"
      },
      "source": [
        "# Koneksi ke Google Drive\n",
        "from google.colab import drive\n",
        "drive.mount('/content/drive')"
      ],
      "execution_count": null,
      "outputs": [
        {
          "output_type": "stream",
          "text": [
            "Drive already mounted at /content/drive; to attempt to forcibly remount, call drive.mount(\"/content/drive\", force_remount=True).\n"
          ],
          "name": "stdout"
        }
      ]
    },
    {
      "cell_type": "code",
      "metadata": {
        "id": "YfXz0mSRk-4H"
      },
      "source": [
        "# Mengaktifkan library Pandas\n",
        "import pandas as pd"
      ],
      "execution_count": null,
      "outputs": []
    },
    {
      "cell_type": "code",
      "metadata": {
        "colab": {
          "base_uri": "https://localhost:8080/",
          "height": 357
        },
        "id": "WGOnMu7enmYA",
        "outputId": "738c1740-be09-4117-bf2d-2482321b526c"
      },
      "source": [
        "# Membaca dataset pertama hasil scraping\n",
        "df1 = pd.read_csv('/content/drive/My Drive/Colab Notebooks/instascraper/test-scraping.csv')\n",
        "print(df1.shape)\n",
        "df1.head()"
      ],
      "execution_count": null,
      "outputs": [
        {
          "output_type": "stream",
          "text": [
            "(480, 9)\n"
          ],
          "name": "stdout"
        },
        {
          "output_type": "execute_result",
          "data": {
            "text/html": [
              "<div>\n",
              "<style scoped>\n",
              "    .dataframe tbody tr th:only-of-type {\n",
              "        vertical-align: middle;\n",
              "    }\n",
              "\n",
              "    .dataframe tbody tr th {\n",
              "        vertical-align: top;\n",
              "    }\n",
              "\n",
              "    .dataframe thead th {\n",
              "        text-align: right;\n",
              "    }\n",
              "</style>\n",
              "<table border=\"1\" class=\"dataframe\">\n",
              "  <thead>\n",
              "    <tr style=\"text-align: right;\">\n",
              "      <th></th>\n",
              "      <th>postURL</th>\n",
              "      <th>isVideo</th>\n",
              "      <th>date_posted</th>\n",
              "      <th>timestamp</th>\n",
              "      <th>likeCount</th>\n",
              "      <th>commentCount</th>\n",
              "      <th>image_url</th>\n",
              "      <th>captions</th>\n",
              "      <th>videoURL</th>\n",
              "    </tr>\n",
              "  </thead>\n",
              "  <tbody>\n",
              "    <tr>\n",
              "      <th>0</th>\n",
              "      <td>https://www.instagram.com/p/CQ54tzyjPPF</td>\n",
              "      <td>False</td>\n",
              "      <td>04/07/2021 12:00:05</td>\n",
              "      <td>1625400005</td>\n",
              "      <td>303</td>\n",
              "      <td>5</td>\n",
              "      <td>https://instagram.fjog3-1.fna.fbcdn.net/v/t51....</td>\n",
              "      <td>MAKANAN BALI DI JOGJA\\n.\\nMakan malam di hari ...</td>\n",
              "      <td>NaN</td>\n",
              "    </tr>\n",
              "    <tr>\n",
              "      <th>1</th>\n",
              "      <td>https://www.instagram.com/p/CQ28nCyj7Qi</td>\n",
              "      <td>False</td>\n",
              "      <td>03/07/2021 08:36:23</td>\n",
              "      <td>1625301383</td>\n",
              "      <td>602</td>\n",
              "      <td>6</td>\n",
              "      <td>https://instagram.fjog3-1.fna.fbcdn.net/v/t51....</td>\n",
              "      <td>MAKAN EMIK DIRUMAH? BISA!\\n.\\nMau makan pas PP...</td>\n",
              "      <td>NaN</td>\n",
              "    </tr>\n",
              "    <tr>\n",
              "      <th>2</th>\n",
              "      <td>https://www.instagram.com/p/CQxy_-uDhe7</td>\n",
              "      <td>False</td>\n",
              "      <td>01/07/2021 08:36:12</td>\n",
              "      <td>1625128572</td>\n",
              "      <td>144</td>\n",
              "      <td>2</td>\n",
              "      <td>https://instagram.fjog3-1.fna.fbcdn.net/v/t51....</td>\n",
              "      <td>LUMPIA SAMIJAYA\\n.\\nKe Jogja wajib banget coba...</td>\n",
              "      <td>NaN</td>\n",
              "    </tr>\n",
              "    <tr>\n",
              "      <th>3</th>\n",
              "      <td>https://www.instagram.com/p/CQs6dOyDxMb</td>\n",
              "      <td>False</td>\n",
              "      <td>29/06/2021 11:05:10</td>\n",
              "      <td>1624964710</td>\n",
              "      <td>585</td>\n",
              "      <td>6</td>\n",
              "      <td>https://instagram.fjog3-1.fna.fbcdn.net/v/t51....</td>\n",
              "      <td>MAKAN MIE PEDAS DI MIE NYINYIR\\n.\\nKalian suka...</td>\n",
              "      <td>NaN</td>\n",
              "    </tr>\n",
              "    <tr>\n",
              "      <th>4</th>\n",
              "      <td>https://www.instagram.com/p/CQnwVEXD_ek</td>\n",
              "      <td>False</td>\n",
              "      <td>27/06/2021 11:00:28</td>\n",
              "      <td>1624791628</td>\n",
              "      <td>138</td>\n",
              "      <td>2</td>\n",
              "      <td>https://instagram.fjog3-1.fna.fbcdn.net/v/t51....</td>\n",
              "      <td>TOPOKKI TIME BUKA CABANG LAGI\\n.\\nWuihhh.. Top...</td>\n",
              "      <td>NaN</td>\n",
              "    </tr>\n",
              "  </tbody>\n",
              "</table>\n",
              "</div>"
            ],
            "text/plain": [
              "                                   postURL  ...  videoURL\n",
              "0  https://www.instagram.com/p/CQ54tzyjPPF  ...       NaN\n",
              "1  https://www.instagram.com/p/CQ28nCyj7Qi  ...       NaN\n",
              "2  https://www.instagram.com/p/CQxy_-uDhe7  ...       NaN\n",
              "3  https://www.instagram.com/p/CQs6dOyDxMb  ...       NaN\n",
              "4  https://www.instagram.com/p/CQnwVEXD_ek  ...       NaN\n",
              "\n",
              "[5 rows x 9 columns]"
            ]
          },
          "metadata": {
            "tags": []
          },
          "execution_count": 6
        }
      ]
    },
    {
      "cell_type": "code",
      "metadata": {
        "colab": {
          "base_uri": "https://localhost:8080/",
          "height": 374
        },
        "id": "fubQwHavn4eQ",
        "outputId": "44e9688a-cda9-4ada-af2f-83a0e44e5337"
      },
      "source": [
        "# Membaca dataset kedua hasil scraping\n",
        "df2 = pd.read_csv('/content/drive/My Drive/Colab Notebooks/instascraper/instascraper2/test-scraping2.csv')\n",
        "print(df2.shape)\n",
        "df2.head()"
      ],
      "execution_count": null,
      "outputs": [
        {
          "output_type": "stream",
          "text": [
            "(431, 9)\n"
          ],
          "name": "stdout"
        },
        {
          "output_type": "execute_result",
          "data": {
            "text/html": [
              "<div>\n",
              "<style scoped>\n",
              "    .dataframe tbody tr th:only-of-type {\n",
              "        vertical-align: middle;\n",
              "    }\n",
              "\n",
              "    .dataframe tbody tr th {\n",
              "        vertical-align: top;\n",
              "    }\n",
              "\n",
              "    .dataframe thead th {\n",
              "        text-align: right;\n",
              "    }\n",
              "</style>\n",
              "<table border=\"1\" class=\"dataframe\">\n",
              "  <thead>\n",
              "    <tr style=\"text-align: right;\">\n",
              "      <th></th>\n",
              "      <th>postURL</th>\n",
              "      <th>isVideo</th>\n",
              "      <th>date_posted</th>\n",
              "      <th>timestamp</th>\n",
              "      <th>likeCount</th>\n",
              "      <th>commentCount</th>\n",
              "      <th>image_url</th>\n",
              "      <th>captions</th>\n",
              "      <th>videoURL</th>\n",
              "    </tr>\n",
              "  </thead>\n",
              "  <tbody>\n",
              "    <tr>\n",
              "      <th>0</th>\n",
              "      <td>https://www.instagram.com/p/CRRH0PAnkaJ</td>\n",
              "      <td>False</td>\n",
              "      <td>13/07/2021 12:34:33</td>\n",
              "      <td>1626179673</td>\n",
              "      <td>2079</td>\n",
              "      <td>33</td>\n",
              "      <td>https://instagram.fdps5-1.fna.fbcdn.net/v/t51....</td>\n",
              "      <td>1.2..3… say KIMCHI!!😁📸 Ayo absen sini siapa se...</td>\n",
              "      <td>NaN</td>\n",
              "    </tr>\n",
              "    <tr>\n",
              "      <th>1</th>\n",
              "      <td>https://www.instagram.com/p/CROcv4Sn35y</td>\n",
              "      <td>False</td>\n",
              "      <td>12/07/2021 11:39:45</td>\n",
              "      <td>1626089985</td>\n",
              "      <td>1934</td>\n",
              "      <td>26</td>\n",
              "      <td>https://instagram.fdps5-1.fna.fbcdn.net/v/t51....</td>\n",
              "      <td>Racyun jajan edisi kangen Jepang!!🎌 🍱😋 Kedua k...</td>\n",
              "      <td>NaN</td>\n",
              "    </tr>\n",
              "    <tr>\n",
              "      <th>2</th>\n",
              "      <td>https://www.instagram.com/p/CRJXZMZnisA</td>\n",
              "      <td>False</td>\n",
              "      <td>10/07/2021 12:16:45</td>\n",
              "      <td>1625919405</td>\n",
              "      <td>1298</td>\n",
              "      <td>52</td>\n",
              "      <td>https://instagram.fdps5-1.fna.fbcdn.net/v/t51....</td>\n",
              "      <td>Makan Bebek Goreng bikin tajir?? AMINNNN aja y...</td>\n",
              "      <td>NaN</td>\n",
              "    </tr>\n",
              "    <tr>\n",
              "      <th>3</th>\n",
              "      <td>https://www.instagram.com/p/CRIlagVnhcX</td>\n",
              "      <td>False</td>\n",
              "      <td>10/07/2021 05:00:01</td>\n",
              "      <td>1625893201</td>\n",
              "      <td>2273</td>\n",
              "      <td>103</td>\n",
              "      <td>https://instagram.fdps5-1.fna.fbcdn.net/v/t51....</td>\n",
              "      <td>Seseruan ngopi di rumah auto naik level dg mes...</td>\n",
              "      <td>NaN</td>\n",
              "    </tr>\n",
              "    <tr>\n",
              "      <th>4</th>\n",
              "      <td>https://www.instagram.com/p/CRDJHlNnn5b</td>\n",
              "      <td>False</td>\n",
              "      <td>08/07/2021 02:16:34</td>\n",
              "      <td>1625710594</td>\n",
              "      <td>3694</td>\n",
              "      <td>89</td>\n",
              "      <td>https://instagram.fdps5-1.fna.fbcdn.net/v/t51....</td>\n",
              "      <td>Mad in love with “BrEGGfast Buns” @djournal.ho...</td>\n",
              "      <td>NaN</td>\n",
              "    </tr>\n",
              "  </tbody>\n",
              "</table>\n",
              "</div>"
            ],
            "text/plain": [
              "                                   postURL  ...  videoURL\n",
              "0  https://www.instagram.com/p/CRRH0PAnkaJ  ...       NaN\n",
              "1  https://www.instagram.com/p/CROcv4Sn35y  ...       NaN\n",
              "2  https://www.instagram.com/p/CRJXZMZnisA  ...       NaN\n",
              "3  https://www.instagram.com/p/CRIlagVnhcX  ...       NaN\n",
              "4  https://www.instagram.com/p/CRDJHlNnn5b  ...       NaN\n",
              "\n",
              "[5 rows x 9 columns]"
            ]
          },
          "metadata": {
            "tags": []
          },
          "execution_count": 7
        }
      ]
    },
    {
      "cell_type": "code",
      "metadata": {
        "colab": {
          "base_uri": "https://localhost:8080/",
          "height": 547
        },
        "id": "HatNqY2wi2zq",
        "outputId": "af4c71cf-58c9-432d-c291-12db688432d0"
      },
      "source": [
        "# Membaca dataset ketiga hasil scraping\n",
        "df3 = pd.read_csv('/content/drive/My Drive/Colab Notebooks/instascrapers/test-scrapings.csv')\n",
        "print(df3.shape)\n",
        "df3.head()"
      ],
      "execution_count": null,
      "outputs": [
        {
          "output_type": "stream",
          "text": [
            "(346, 9)\n"
          ],
          "name": "stdout"
        },
        {
          "output_type": "execute_result",
          "data": {
            "text/html": [
              "<div>\n",
              "<style scoped>\n",
              "    .dataframe tbody tr th:only-of-type {\n",
              "        vertical-align: middle;\n",
              "    }\n",
              "\n",
              "    .dataframe tbody tr th {\n",
              "        vertical-align: top;\n",
              "    }\n",
              "\n",
              "    .dataframe thead th {\n",
              "        text-align: right;\n",
              "    }\n",
              "</style>\n",
              "<table border=\"1\" class=\"dataframe\">\n",
              "  <thead>\n",
              "    <tr style=\"text-align: right;\">\n",
              "      <th></th>\n",
              "      <th>postURL</th>\n",
              "      <th>isVideo</th>\n",
              "      <th>date_posted</th>\n",
              "      <th>timestamp</th>\n",
              "      <th>likeCount</th>\n",
              "      <th>commentCount</th>\n",
              "      <th>image_url</th>\n",
              "      <th>captions</th>\n",
              "      <th>videoURL</th>\n",
              "    </tr>\n",
              "  </thead>\n",
              "  <tbody>\n",
              "    <tr>\n",
              "      <th>0</th>\n",
              "      <td>https://www.instagram.com/p/CRupMQGL51c</td>\n",
              "      <td>False</td>\n",
              "      <td>24/07/2021 23:44:10</td>\n",
              "      <td>1627170250</td>\n",
              "      <td>732</td>\n",
              "      <td>221</td>\n",
              "      <td>https://scontent-lga3-2.cdninstagram.com/v/t51...</td>\n",
              "      <td>FAMILY FAVORITE PACKAGE 😋\\n.\\nHappy Sunday Peo...</td>\n",
              "      <td>NaN</td>\n",
              "    </tr>\n",
              "    <tr>\n",
              "      <th>1</th>\n",
              "      <td>https://www.instagram.com/p/CRtjqC6rZB5</td>\n",
              "      <td>False</td>\n",
              "      <td>24/07/2021 13:36:34</td>\n",
              "      <td>1627133794</td>\n",
              "      <td>527</td>\n",
              "      <td>141</td>\n",
              "      <td>https://scontent-lga3-2.cdninstagram.com/v/t51...</td>\n",
              "      <td>メロンパン @nataliasunanto \\n.\\nIkutan PO nya @nata...</td>\n",
              "      <td>NaN</td>\n",
              "    </tr>\n",
              "    <tr>\n",
              "      <th>2</th>\n",
              "      <td>https://www.instagram.com/p/CRtKsW5rxng</td>\n",
              "      <td>False</td>\n",
              "      <td>24/07/2021 09:58:26</td>\n",
              "      <td>1627120706</td>\n",
              "      <td>424</td>\n",
              "      <td>190</td>\n",
              "      <td>https://scontent-lga3-2.cdninstagram.com/v/t51...</td>\n",
              "      <td>[NEW OUTLET] Yes warga Mekarwangi mana suarany...</td>\n",
              "      <td>NaN</td>\n",
              "    </tr>\n",
              "    <tr>\n",
              "      <th>3</th>\n",
              "      <td>https://www.instagram.com/p/CRxTD7yAznf</td>\n",
              "      <td>True</td>\n",
              "      <td>26/07/2021 00:29:29</td>\n",
              "      <td>1627259369</td>\n",
              "      <td>451</td>\n",
              "      <td>190</td>\n",
              "      <td>https://scontent-lga3-2.cdninstagram.com/v/t51...</td>\n",
              "      <td>[SAVE] MULTIGRAIN BREAD 🍞\\n.\\nHappy Monday! SO...</td>\n",
              "      <td>https://scontent-lga3-2.cdninstagram.com/v/t50...</td>\n",
              "    </tr>\n",
              "    <tr>\n",
              "      <th>4</th>\n",
              "      <td>https://www.instagram.com/p/CRvv412ADq6</td>\n",
              "      <td>True</td>\n",
              "      <td>25/07/2021 10:10:01</td>\n",
              "      <td>1627207801</td>\n",
              "      <td>697</td>\n",
              "      <td>188</td>\n",
              "      <td>https://scontent-lga3-2.cdninstagram.com/v/t51...</td>\n",
              "      <td>[SAVE] KERUPUK CRABSTICK 🫔🦀\\n.\\nCEMILAN ENAK C...</td>\n",
              "      <td>https://scontent-lga3-2.cdninstagram.com/v/t50...</td>\n",
              "    </tr>\n",
              "  </tbody>\n",
              "</table>\n",
              "</div>"
            ],
            "text/plain": [
              "                                   postURL  ...                                           videoURL\n",
              "0  https://www.instagram.com/p/CRupMQGL51c  ...                                                NaN\n",
              "1  https://www.instagram.com/p/CRtjqC6rZB5  ...                                                NaN\n",
              "2  https://www.instagram.com/p/CRtKsW5rxng  ...                                                NaN\n",
              "3  https://www.instagram.com/p/CRxTD7yAznf  ...  https://scontent-lga3-2.cdninstagram.com/v/t50...\n",
              "4  https://www.instagram.com/p/CRvv412ADq6  ...  https://scontent-lga3-2.cdninstagram.com/v/t50...\n",
              "\n",
              "[5 rows x 9 columns]"
            ]
          },
          "metadata": {
            "tags": []
          },
          "execution_count": 9
        }
      ]
    },
    {
      "cell_type": "code",
      "metadata": {
        "colab": {
          "base_uri": "https://localhost:8080/",
          "height": 391
        },
        "id": "vRXBKd9-jLjl",
        "outputId": "291402ad-c0e7-4902-b4d3-bbac14c4e9da"
      },
      "source": [
        "# Membaca dataset ketiga hasil scraping\n",
        "df4 = pd.read_csv('/content/drive/My Drive/Colab Notebooks/instascraperz/test-scrapingz.csv')\n",
        "print(df4.shape)\n",
        "df4.head()"
      ],
      "execution_count": null,
      "outputs": [
        {
          "output_type": "stream",
          "text": [
            "(283, 9)\n"
          ],
          "name": "stdout"
        },
        {
          "output_type": "execute_result",
          "data": {
            "text/html": [
              "<div>\n",
              "<style scoped>\n",
              "    .dataframe tbody tr th:only-of-type {\n",
              "        vertical-align: middle;\n",
              "    }\n",
              "\n",
              "    .dataframe tbody tr th {\n",
              "        vertical-align: top;\n",
              "    }\n",
              "\n",
              "    .dataframe thead th {\n",
              "        text-align: right;\n",
              "    }\n",
              "</style>\n",
              "<table border=\"1\" class=\"dataframe\">\n",
              "  <thead>\n",
              "    <tr style=\"text-align: right;\">\n",
              "      <th></th>\n",
              "      <th>postURL</th>\n",
              "      <th>isVideo</th>\n",
              "      <th>date_posted</th>\n",
              "      <th>timestamp</th>\n",
              "      <th>likeCount</th>\n",
              "      <th>commentCount</th>\n",
              "      <th>image_url</th>\n",
              "      <th>captions</th>\n",
              "      <th>videoURL</th>\n",
              "    </tr>\n",
              "  </thead>\n",
              "  <tbody>\n",
              "    <tr>\n",
              "      <th>0</th>\n",
              "      <td>https://www.instagram.com/p/CRYAjpyJOBP</td>\n",
              "      <td>False</td>\n",
              "      <td>16/07/2021 04:45:49</td>\n",
              "      <td>1626410749</td>\n",
              "      <td>78</td>\n",
              "      <td>2</td>\n",
              "      <td>https://instagram.fatl1-1.fna.fbcdn.net/v/t51....</td>\n",
              "      <td>AKHIRNYA BUBE BUKA DI JOGJA @Bube.Jogja\\n.\\nBo...</td>\n",
              "      <td>NaN</td>\n",
              "    </tr>\n",
              "    <tr>\n",
              "      <th>1</th>\n",
              "      <td>https://www.instagram.com/p/CRDtCCfpGem</td>\n",
              "      <td>False</td>\n",
              "      <td>08/07/2021 07:30:23</td>\n",
              "      <td>1625729423</td>\n",
              "      <td>513</td>\n",
              "      <td>28</td>\n",
              "      <td>https://instagram.fatl1-2.fna.fbcdn.net/v/t51....</td>\n",
              "      <td>MAKAN AYAM SATU EKOR CUMA 39.000 AJA GAESS!! 😍...</td>\n",
              "      <td>NaN</td>\n",
              "    </tr>\n",
              "    <tr>\n",
              "      <th>2</th>\n",
              "      <td>https://www.instagram.com/p/CQhvLF8pdqr</td>\n",
              "      <td>False</td>\n",
              "      <td>25/06/2021 02:54:55</td>\n",
              "      <td>1624589695</td>\n",
              "      <td>240</td>\n",
              "      <td>6</td>\n",
              "      <td>https://instagram.fatl1-2.fna.fbcdn.net/v/t51....</td>\n",
              "      <td>ENAK PARAH SIH INI GAESS!! SPOT KULINER JAPANE...</td>\n",
              "      <td>NaN</td>\n",
              "    </tr>\n",
              "    <tr>\n",
              "      <th>3</th>\n",
              "      <td>https://www.instagram.com/p/CQfGuHPpLTL</td>\n",
              "      <td>False</td>\n",
              "      <td>24/06/2021 02:22:57</td>\n",
              "      <td>1624501377</td>\n",
              "      <td>58</td>\n",
              "      <td>0</td>\n",
              "      <td>https://instagram.fatl1-1.fna.fbcdn.net/v/t51....</td>\n",
              "      <td>NYOBAIN SOP IGA + HOTPLATE ENAK BANGET DI DAER...</td>\n",
              "      <td>NaN</td>\n",
              "    </tr>\n",
              "    <tr>\n",
              "      <th>4</th>\n",
              "      <td>https://www.instagram.com/p/CQU5xepphn5</td>\n",
              "      <td>False</td>\n",
              "      <td>20/06/2021 03:17:25</td>\n",
              "      <td>1624159045</td>\n",
              "      <td>401</td>\n",
              "      <td>13</td>\n",
              "      <td>https://instagram.fatl1-1.fna.fbcdn.net/v/t51....</td>\n",
              "      <td>PUAS BANGET MAKAN KEBAB DAN BURGER DISINI! 😍😍 ...</td>\n",
              "      <td>NaN</td>\n",
              "    </tr>\n",
              "  </tbody>\n",
              "</table>\n",
              "</div>"
            ],
            "text/plain": [
              "                                   postURL  ... videoURL\n",
              "0  https://www.instagram.com/p/CRYAjpyJOBP  ...      NaN\n",
              "1  https://www.instagram.com/p/CRDtCCfpGem  ...      NaN\n",
              "2  https://www.instagram.com/p/CQhvLF8pdqr  ...      NaN\n",
              "3  https://www.instagram.com/p/CQfGuHPpLTL  ...      NaN\n",
              "4  https://www.instagram.com/p/CQU5xepphn5  ...      NaN\n",
              "\n",
              "[5 rows x 9 columns]"
            ]
          },
          "metadata": {
            "tags": []
          },
          "execution_count": 10
        }
      ]
    },
    {
      "cell_type": "code",
      "metadata": {
        "colab": {
          "base_uri": "https://localhost:8080/",
          "height": 357
        },
        "id": "2SH80gbHn8AR",
        "outputId": "b66889dd-f2e5-4505-b7aa-e0c21d0f28d3"
      },
      "source": [
        "# Menggabungkan empat dataset hasil scraping\n",
        "mydf = [df1, df2, df3, df4]\n",
        "df_gabungan = pd.DataFrame()\n",
        "\n",
        "for df in mydf:\n",
        "    df_gabungan = df_gabungan.append(df)\n",
        "\n",
        "print(df_gabungan.shape)\n",
        "df_gabungan.head()"
      ],
      "execution_count": null,
      "outputs": [
        {
          "output_type": "stream",
          "text": [
            "(1540, 9)\n"
          ],
          "name": "stdout"
        },
        {
          "output_type": "execute_result",
          "data": {
            "text/html": [
              "<div>\n",
              "<style scoped>\n",
              "    .dataframe tbody tr th:only-of-type {\n",
              "        vertical-align: middle;\n",
              "    }\n",
              "\n",
              "    .dataframe tbody tr th {\n",
              "        vertical-align: top;\n",
              "    }\n",
              "\n",
              "    .dataframe thead th {\n",
              "        text-align: right;\n",
              "    }\n",
              "</style>\n",
              "<table border=\"1\" class=\"dataframe\">\n",
              "  <thead>\n",
              "    <tr style=\"text-align: right;\">\n",
              "      <th></th>\n",
              "      <th>postURL</th>\n",
              "      <th>isVideo</th>\n",
              "      <th>date_posted</th>\n",
              "      <th>timestamp</th>\n",
              "      <th>likeCount</th>\n",
              "      <th>commentCount</th>\n",
              "      <th>image_url</th>\n",
              "      <th>captions</th>\n",
              "      <th>videoURL</th>\n",
              "    </tr>\n",
              "  </thead>\n",
              "  <tbody>\n",
              "    <tr>\n",
              "      <th>0</th>\n",
              "      <td>https://www.instagram.com/p/CQ54tzyjPPF</td>\n",
              "      <td>False</td>\n",
              "      <td>04/07/2021 12:00:05</td>\n",
              "      <td>1625400005</td>\n",
              "      <td>303</td>\n",
              "      <td>5</td>\n",
              "      <td>https://instagram.fjog3-1.fna.fbcdn.net/v/t51....</td>\n",
              "      <td>MAKANAN BALI DI JOGJA\\n.\\nMakan malam di hari ...</td>\n",
              "      <td>NaN</td>\n",
              "    </tr>\n",
              "    <tr>\n",
              "      <th>1</th>\n",
              "      <td>https://www.instagram.com/p/CQ28nCyj7Qi</td>\n",
              "      <td>False</td>\n",
              "      <td>03/07/2021 08:36:23</td>\n",
              "      <td>1625301383</td>\n",
              "      <td>602</td>\n",
              "      <td>6</td>\n",
              "      <td>https://instagram.fjog3-1.fna.fbcdn.net/v/t51....</td>\n",
              "      <td>MAKAN EMIK DIRUMAH? BISA!\\n.\\nMau makan pas PP...</td>\n",
              "      <td>NaN</td>\n",
              "    </tr>\n",
              "    <tr>\n",
              "      <th>2</th>\n",
              "      <td>https://www.instagram.com/p/CQxy_-uDhe7</td>\n",
              "      <td>False</td>\n",
              "      <td>01/07/2021 08:36:12</td>\n",
              "      <td>1625128572</td>\n",
              "      <td>144</td>\n",
              "      <td>2</td>\n",
              "      <td>https://instagram.fjog3-1.fna.fbcdn.net/v/t51....</td>\n",
              "      <td>LUMPIA SAMIJAYA\\n.\\nKe Jogja wajib banget coba...</td>\n",
              "      <td>NaN</td>\n",
              "    </tr>\n",
              "    <tr>\n",
              "      <th>3</th>\n",
              "      <td>https://www.instagram.com/p/CQs6dOyDxMb</td>\n",
              "      <td>False</td>\n",
              "      <td>29/06/2021 11:05:10</td>\n",
              "      <td>1624964710</td>\n",
              "      <td>585</td>\n",
              "      <td>6</td>\n",
              "      <td>https://instagram.fjog3-1.fna.fbcdn.net/v/t51....</td>\n",
              "      <td>MAKAN MIE PEDAS DI MIE NYINYIR\\n.\\nKalian suka...</td>\n",
              "      <td>NaN</td>\n",
              "    </tr>\n",
              "    <tr>\n",
              "      <th>4</th>\n",
              "      <td>https://www.instagram.com/p/CQnwVEXD_ek</td>\n",
              "      <td>False</td>\n",
              "      <td>27/06/2021 11:00:28</td>\n",
              "      <td>1624791628</td>\n",
              "      <td>138</td>\n",
              "      <td>2</td>\n",
              "      <td>https://instagram.fjog3-1.fna.fbcdn.net/v/t51....</td>\n",
              "      <td>TOPOKKI TIME BUKA CABANG LAGI\\n.\\nWuihhh.. Top...</td>\n",
              "      <td>NaN</td>\n",
              "    </tr>\n",
              "  </tbody>\n",
              "</table>\n",
              "</div>"
            ],
            "text/plain": [
              "                                   postURL  ... videoURL\n",
              "0  https://www.instagram.com/p/CQ54tzyjPPF  ...      NaN\n",
              "1  https://www.instagram.com/p/CQ28nCyj7Qi  ...      NaN\n",
              "2  https://www.instagram.com/p/CQxy_-uDhe7  ...      NaN\n",
              "3  https://www.instagram.com/p/CQs6dOyDxMb  ...      NaN\n",
              "4  https://www.instagram.com/p/CQnwVEXD_ek  ...      NaN\n",
              "\n",
              "[5 rows x 9 columns]"
            ]
          },
          "metadata": {
            "tags": []
          },
          "execution_count": 12
        }
      ]
    },
    {
      "cell_type": "code",
      "metadata": {
        "id": "LDHh9OX3o5RG"
      },
      "source": [
        "# Menghapus kolom-kolom yang tidak diperlukan dalam dataset\n",
        "df_gabungan.drop(['postURL', 'isVideo', 'date_posted', 'timestamp', 'likeCount', 'commentCount', 'image_url', 'videoURL'], axis=1, inplace=True)"
      ],
      "execution_count": null,
      "outputs": []
    },
    {
      "cell_type": "code",
      "metadata": {
        "id": "OG72FYJdpRKQ",
        "colab": {
          "base_uri": "https://localhost:8080/",
          "height": 544
        },
        "outputId": "f1dc7b78-904e-4273-a882-26a94c9ca00c"
      },
      "source": [
        "# Menampilkan dataset\n",
        "pd.options.display.max_colwidth=1000\n",
        "df_gabungan.head()"
      ],
      "execution_count": null,
      "outputs": [
        {
          "output_type": "execute_result",
          "data": {
            "text/html": [
              "<div>\n",
              "<style scoped>\n",
              "    .dataframe tbody tr th:only-of-type {\n",
              "        vertical-align: middle;\n",
              "    }\n",
              "\n",
              "    .dataframe tbody tr th {\n",
              "        vertical-align: top;\n",
              "    }\n",
              "\n",
              "    .dataframe thead th {\n",
              "        text-align: right;\n",
              "    }\n",
              "</style>\n",
              "<table border=\"1\" class=\"dataframe\">\n",
              "  <thead>\n",
              "    <tr style=\"text-align: right;\">\n",
              "      <th></th>\n",
              "      <th>captions</th>\n",
              "    </tr>\n",
              "  </thead>\n",
              "  <tbody>\n",
              "    <tr>\n",
              "      <th>0</th>\n",
              "      <td>MAKANAN BALI DI JOGJA\\n.\\nMakan malam di hari minggu ini yang enak enak dulu gaes, tapi ini NON HALAL ya gaes, yang gak berkenan skip aja hehehe\\n\\nNah ini makannya di Bu Kadek Khas Bali yang ada di Selokan Mataram bagian Kalasan Sleman\\n\\nDisini pesen 3 menu sekaligus, nasi campur spesial, sate B2, dan sate lilit B2. Harganya terjangkau kok gaes semuanya.\\n\\nNasi campur spesialnya mantap, dapet nasi trancam, B2 Rica, B2 Kecap, sate B2, lawar, serta kuah sup. Rasanya bikin nagih, nggak cukup 1 porsi hahaha\\n\\nSate Lilit B2 nya gede gede, seporsi dapat 5 tusuk. Bisa buat lauk ataupun digadoin. Rasanya manis gurih dan bikin nagih juga, muantap\\n\\nSate B2 nya request pedes , bumbunya meresap ke dalam dagingnya, pedesnya masih enak nggak terlalu pedes\\n\\nOverall semuanya recommended untuk dicoba!\\n.\\n💰Menu di #pricelistkuliner_bukadekkhasbali\\n📌Bu Kadek Khas Bali\\nJl. Selokan Mataram, Kadirojo I, Purwomartani, Kalasan, Sleman, DIY\\n🗓Selasa - Minggu\\n⏰09.00 - 21.00\\n.\\n#mahasiswakuliner...</td>\n",
              "    </tr>\n",
              "    <tr>\n",
              "      <th>1</th>\n",
              "      <td>MAKAN EMIK DIRUMAH? BISA!\\n.\\nMau makan pas PPKM gini susah, kalian bisa ke @emik.id gaes yang ada di Condongcatur\\n\\nDisini sudah support Program PPKM dari pemerintah. Kalian bisa pesen 4 macam varian mie disini, ada yang manis, pedas manis, asin, dan asin pedas. Nggak cuma mie , tapi ada pangsit goreng, pangsit rebus, sampai kulit goreng juga ada.\\n\\nCusss order @emik.id sekarang juga!\\n.\\n💰Rp 9000 - 30000\\n📌Emik Homemade Noodles\\nJl. Anggajaya 2, Sanggrahan, Condongcatur, Depok, Sleman, DIY\\n⏰13.00 - 21.00\\n⚠️Jumat Tutup\\n.\\n#mahasiswakulineran #kulinermahasiswa #emik #homemadenoodles #noodles #mie #bakmi #bakmiayam</td>\n",
              "    </tr>\n",
              "    <tr>\n",
              "      <th>2</th>\n",
              "      <td>LUMPIA SAMIJAYA\\n.\\nKe Jogja wajib banget cobain Lumpia yang satu ini gaes, namanya Lumpia Samijaya, hits banget di Malioboro\\n\\nTapi kalo ke pusat yang di Malioboro biasanya antri panjang, mendingan ke cabangnya di Jalan Mataram gaes, lebih sepi dan bisa dine in\\n\\nPilihannya ada 2 lumpia, lumpia ayam dan lumpia spesial. Harganya murah kok gaes, cuma 5000 dan 6000 rupiah per bijinya. Paling enak makan di tempat karna digoreng masih anget jadinya\\n\\nYang doyan lumpia wajib banget mampir kesini!\\n.\\n💰 Rp 5000 (lumpia ayam)\\n💰 Rp 6000 (lumpia spesial)\\n📌 Lumpia Samijaya\\nJl.Mataram no.44, Suryatmajan, Danurejan, Kota Yogyakarta, DIY\\n(Sebelah sop ayam pak min)\\n⏰10.00 - 21.00\\n.\\n#mahasiswakulineran #lumpiasamijaya #lumpiajogja #lumpiaayam #lumpia #lumpiagoreng #lumpiajogja</td>\n",
              "    </tr>\n",
              "    <tr>\n",
              "      <th>3</th>\n",
              "      <td>MAKAN MIE PEDAS DI MIE NYINYIR\\n.\\nKalian suka makan mie dan rasa pedes? Ke @mienyinyir_jog aja gaes\\n\\nDisini kalian bisa makan mie dengan level pedas sampai 30 cabe lho, bakal bikin nyinyir beneran deh\\nMienya lembut empuk, ada yang asin gurih dan manis gurih\\n\\nSelain mie pedes , kalian bisa cobain juga siomay nyinyirnya gaes, pake cabe pedes juga, mantul rasanya!\\n\\nBuat kalian yang pengguna aplikasi TIK TOK jangan lupa follow akunnya @mienyinyir_jog juga ya!\\n.\\n💰Mulai Rp 9.000\\n📌Mie Nyinyir Jogja\\n-Jl. Babarsari\\n-Jl. Sorogenen, Nitikan\\n-Jl. Godean KM 4.5\\n-Jl. Patangpuluhan\\n-Jl Dr Wahidin Sudiro Husodo, Bantul\\n⏰09.00 - 22.00\\n.\\n#mahasiswakulineran #kulinermahasiswa #mienyinyirjogja #mienyinyir #miepedas #siomay #siomaypedas #miepedes</td>\n",
              "    </tr>\n",
              "    <tr>\n",
              "      <th>4</th>\n",
              "      <td>TOPOKKI TIME BUKA CABANG LAGI\\n.\\nWuihhh.. Topokki Time sekarang buka store baru lagi Wonocatur, lho. Seru banget kan? 😜\\n\\nYuk! Buat kamu yang udah kepo sama rasa makanan Korea dari Topokki Time bisa langsung datang ke store baru kita di Jl. Wonocatur No.97, Banguntapan, Bantul, DIY\\n\\nPsssttt… Kamu juga bisa mendapatkan potongan harga sebesar 50%, lho.\\n\\nSyarat &amp; Ketentuannya:\\n1. Follow akun media sosial @topokki.time\\n2. Buat Insta Story dan tag 3 teman kamu\\n3. Subscribe youtube Topokki Time\\n4. Periode ini berlaku untuk tanggal 27-28 Juni 2021\\n5. Berlaku kelipatan\\n6. Berlaku pembelian take away\\n\\nCus.. Berangkat ke store Topokki Time hari ini dan besok!🙌\\n.\\n#mahasiswakulineran #kulinermahasiswa #topokkitime #topokki #tteokbokki #odeng #koreanstreetfood #koreanfood</td>\n",
              "    </tr>\n",
              "  </tbody>\n",
              "</table>\n",
              "</div>"
            ],
            "text/plain": [
              "                                                                                                                                                                                                                                                                                                                                                                                                                                                                                                                                                                                                                                                                                                                                                                                                                                                                                                                                                                                                                                  captions\n",
              "0  MAKANAN BALI DI JOGJA\\n.\\nMakan malam di hari minggu ini yang enak enak dulu gaes, tapi ini NON HALAL ya gaes, yang gak berkenan skip aja hehehe\\n\\nNah ini makannya di Bu Kadek Khas Bali yang ada di Selokan Mataram bagian Kalasan Sleman\\n\\nDisini pesen 3 menu sekaligus, nasi campur spesial, sate B2, dan sate lilit B2. Harganya terjangkau kok gaes semuanya.\\n\\nNasi campur spesialnya mantap, dapet nasi trancam, B2 Rica, B2 Kecap, sate B2, lawar, serta kuah sup. Rasanya bikin nagih, nggak cukup 1 porsi hahaha\\n\\nSate Lilit B2 nya gede gede, seporsi dapat 5 tusuk. Bisa buat lauk ataupun digadoin. Rasanya manis gurih dan bikin nagih juga, muantap\\n\\nSate B2 nya request pedes , bumbunya meresap ke dalam dagingnya, pedesnya masih enak nggak terlalu pedes\\n\\nOverall semuanya recommended untuk dicoba!\\n.\\n💰Menu di #pricelistkuliner_bukadekkhasbali\\n📌Bu Kadek Khas Bali\\nJl. Selokan Mataram, Kadirojo I, Purwomartani, Kalasan, Sleman, DIY\\n🗓Selasa - Minggu\\n⏰09.00 - 21.00\\n.\\n#mahasiswakuliner...\n",
              "1                                                                                                                                                                                                                                                                                                                                                                                       MAKAN EMIK DIRUMAH? BISA!\\n.\\nMau makan pas PPKM gini susah, kalian bisa ke @emik.id gaes yang ada di Condongcatur\\n\\nDisini sudah support Program PPKM dari pemerintah. Kalian bisa pesen 4 macam varian mie disini, ada yang manis, pedas manis, asin, dan asin pedas. Nggak cuma mie , tapi ada pangsit goreng, pangsit rebus, sampai kulit goreng juga ada.\\n\\nCusss order @emik.id sekarang juga!\\n.\\n💰Rp 9000 - 30000\\n📌Emik Homemade Noodles\\nJl. Anggajaya 2, Sanggrahan, Condongcatur, Depok, Sleman, DIY\\n⏰13.00 - 21.00\\n⚠️Jumat Tutup\\n.\\n#mahasiswakulineran #kulinermahasiswa #emik #homemadenoodles #noodles #mie #bakmi #bakmiayam\n",
              "2                                                                                                                                                                                                                           LUMPIA SAMIJAYA\\n.\\nKe Jogja wajib banget cobain Lumpia yang satu ini gaes, namanya Lumpia Samijaya, hits banget di Malioboro\\n\\nTapi kalo ke pusat yang di Malioboro biasanya antri panjang, mendingan ke cabangnya di Jalan Mataram gaes, lebih sepi dan bisa dine in\\n\\nPilihannya ada 2 lumpia, lumpia ayam dan lumpia spesial. Harganya murah kok gaes, cuma 5000 dan 6000 rupiah per bijinya. Paling enak makan di tempat karna digoreng masih anget jadinya\\n\\nYang doyan lumpia wajib banget mampir kesini!\\n.\\n💰 Rp 5000 (lumpia ayam)\\n💰 Rp 6000 (lumpia spesial)\\n📌 Lumpia Samijaya\\nJl.Mataram no.44, Suryatmajan, Danurejan, Kota Yogyakarta, DIY\\n(Sebelah sop ayam pak min)\\n⏰10.00 - 21.00\\n.\\n#mahasiswakulineran #lumpiasamijaya #lumpiajogja #lumpiaayam #lumpia #lumpiagoreng #lumpiajogja\n",
              "3                                                                                                                                                                                                                                                       MAKAN MIE PEDAS DI MIE NYINYIR\\n.\\nKalian suka makan mie dan rasa pedes? Ke @mienyinyir_jog aja gaes\\n\\nDisini kalian bisa makan mie dengan level pedas sampai 30 cabe lho, bakal bikin nyinyir beneran deh\\nMienya lembut empuk, ada yang asin gurih dan manis gurih\\n\\nSelain mie pedes , kalian bisa cobain juga siomay nyinyirnya gaes, pake cabe pedes juga, mantul rasanya!\\n\\nBuat kalian yang pengguna aplikasi TIK TOK jangan lupa follow akunnya @mienyinyir_jog juga ya!\\n.\\n💰Mulai Rp 9.000\\n📌Mie Nyinyir Jogja\\n-Jl. Babarsari\\n-Jl. Sorogenen, Nitikan\\n-Jl. Godean KM 4.5\\n-Jl. Patangpuluhan\\n-Jl Dr Wahidin Sudiro Husodo, Bantul\\n⏰09.00 - 22.00\\n.\\n#mahasiswakulineran #kulinermahasiswa #mienyinyirjogja #mienyinyir #miepedas #siomay #siomaypedas #miepedes\n",
              "4                                                                                                                                                                                                                        TOPOKKI TIME BUKA CABANG LAGI\\n.\\nWuihhh.. Topokki Time sekarang buka store baru lagi Wonocatur, lho. Seru banget kan? 😜\\n\\nYuk! Buat kamu yang udah kepo sama rasa makanan Korea dari Topokki Time bisa langsung datang ke store baru kita di Jl. Wonocatur No.97, Banguntapan, Bantul, DIY\\n\\nPsssttt… Kamu juga bisa mendapatkan potongan harga sebesar 50%, lho.\\n\\nSyarat & Ketentuannya:\\n1. Follow akun media sosial @topokki.time\\n2. Buat Insta Story dan tag 3 teman kamu\\n3. Subscribe youtube Topokki Time\\n4. Periode ini berlaku untuk tanggal 27-28 Juni 2021\\n5. Berlaku kelipatan\\n6. Berlaku pembelian take away\\n\\nCus.. Berangkat ke store Topokki Time hari ini dan besok!🙌\\n.\\n#mahasiswakulineran #kulinermahasiswa #topokkitime #topokki #tteokbokki #odeng #koreanstreetfood #koreanfood"
            ]
          },
          "metadata": {
            "tags": []
          },
          "execution_count": 14
        }
      ]
    },
    {
      "cell_type": "code",
      "metadata": {
        "colab": {
          "base_uri": "https://localhost:8080/"
        },
        "id": "yInrwZhA-A9l",
        "outputId": "0aca42b9-d61f-4b92-ac42-3bc3e13982ba"
      },
      "source": [
        "# Memeriksa apakah ada baris dengan nilai kosong (NA)\n",
        "mydf = df_gabungan.dropna()\n",
        "print(mydf.shape)"
      ],
      "execution_count": null,
      "outputs": [
        {
          "output_type": "stream",
          "text": [
            "(1540, 1)\n"
          ],
          "name": "stdout"
        }
      ]
    },
    {
      "cell_type": "code",
      "metadata": {
        "colab": {
          "base_uri": "https://localhost:8080/",
          "height": 544
        },
        "id": "HnycX5MP-XoX",
        "outputId": "26a1db01-1254-49b2-b6fd-b246cabc02f7"
      },
      "source": [
        "# Casefolding: menormalisasi huruf kapital menjadi huruf kecil semua\n",
        "hasil_cf = pd.DataFrame(columns = ['captions'])\n",
        "hasil_cf['captions'] = mydf['captions'].str.lower()\n",
        "\n",
        "hasil_cf.head()"
      ],
      "execution_count": null,
      "outputs": [
        {
          "output_type": "execute_result",
          "data": {
            "text/html": [
              "<div>\n",
              "<style scoped>\n",
              "    .dataframe tbody tr th:only-of-type {\n",
              "        vertical-align: middle;\n",
              "    }\n",
              "\n",
              "    .dataframe tbody tr th {\n",
              "        vertical-align: top;\n",
              "    }\n",
              "\n",
              "    .dataframe thead th {\n",
              "        text-align: right;\n",
              "    }\n",
              "</style>\n",
              "<table border=\"1\" class=\"dataframe\">\n",
              "  <thead>\n",
              "    <tr style=\"text-align: right;\">\n",
              "      <th></th>\n",
              "      <th>captions</th>\n",
              "    </tr>\n",
              "  </thead>\n",
              "  <tbody>\n",
              "    <tr>\n",
              "      <th>0</th>\n",
              "      <td>makanan bali di jogja\\n.\\nmakan malam di hari minggu ini yang enak enak dulu gaes, tapi ini non halal ya gaes, yang gak berkenan skip aja hehehe\\n\\nnah ini makannya di bu kadek khas bali yang ada di selokan mataram bagian kalasan sleman\\n\\ndisini pesen 3 menu sekaligus, nasi campur spesial, sate b2, dan sate lilit b2. harganya terjangkau kok gaes semuanya.\\n\\nnasi campur spesialnya mantap, dapet nasi trancam, b2 rica, b2 kecap, sate b2, lawar, serta kuah sup. rasanya bikin nagih, nggak cukup 1 porsi hahaha\\n\\nsate lilit b2 nya gede gede, seporsi dapat 5 tusuk. bisa buat lauk ataupun digadoin. rasanya manis gurih dan bikin nagih juga, muantap\\n\\nsate b2 nya request pedes , bumbunya meresap ke dalam dagingnya, pedesnya masih enak nggak terlalu pedes\\n\\noverall semuanya recommended untuk dicoba!\\n.\\n💰menu di #pricelistkuliner_bukadekkhasbali\\n📌bu kadek khas bali\\njl. selokan mataram, kadirojo i, purwomartani, kalasan, sleman, diy\\n🗓selasa - minggu\\n⏰09.00 - 21.00\\n.\\n#mahasiswakuliner...</td>\n",
              "    </tr>\n",
              "    <tr>\n",
              "      <th>1</th>\n",
              "      <td>makan emik dirumah? bisa!\\n.\\nmau makan pas ppkm gini susah, kalian bisa ke @emik.id gaes yang ada di condongcatur\\n\\ndisini sudah support program ppkm dari pemerintah. kalian bisa pesen 4 macam varian mie disini, ada yang manis, pedas manis, asin, dan asin pedas. nggak cuma mie , tapi ada pangsit goreng, pangsit rebus, sampai kulit goreng juga ada.\\n\\ncusss order @emik.id sekarang juga!\\n.\\n💰rp 9000 - 30000\\n📌emik homemade noodles\\njl. anggajaya 2, sanggrahan, condongcatur, depok, sleman, diy\\n⏰13.00 - 21.00\\n⚠️jumat tutup\\n.\\n#mahasiswakulineran #kulinermahasiswa #emik #homemadenoodles #noodles #mie #bakmi #bakmiayam</td>\n",
              "    </tr>\n",
              "    <tr>\n",
              "      <th>2</th>\n",
              "      <td>lumpia samijaya\\n.\\nke jogja wajib banget cobain lumpia yang satu ini gaes, namanya lumpia samijaya, hits banget di malioboro\\n\\ntapi kalo ke pusat yang di malioboro biasanya antri panjang, mendingan ke cabangnya di jalan mataram gaes, lebih sepi dan bisa dine in\\n\\npilihannya ada 2 lumpia, lumpia ayam dan lumpia spesial. harganya murah kok gaes, cuma 5000 dan 6000 rupiah per bijinya. paling enak makan di tempat karna digoreng masih anget jadinya\\n\\nyang doyan lumpia wajib banget mampir kesini!\\n.\\n💰 rp 5000 (lumpia ayam)\\n💰 rp 6000 (lumpia spesial)\\n📌 lumpia samijaya\\njl.mataram no.44, suryatmajan, danurejan, kota yogyakarta, diy\\n(sebelah sop ayam pak min)\\n⏰10.00 - 21.00\\n.\\n#mahasiswakulineran #lumpiasamijaya #lumpiajogja #lumpiaayam #lumpia #lumpiagoreng #lumpiajogja</td>\n",
              "    </tr>\n",
              "    <tr>\n",
              "      <th>3</th>\n",
              "      <td>makan mie pedas di mie nyinyir\\n.\\nkalian suka makan mie dan rasa pedes? ke @mienyinyir_jog aja gaes\\n\\ndisini kalian bisa makan mie dengan level pedas sampai 30 cabe lho, bakal bikin nyinyir beneran deh\\nmienya lembut empuk, ada yang asin gurih dan manis gurih\\n\\nselain mie pedes , kalian bisa cobain juga siomay nyinyirnya gaes, pake cabe pedes juga, mantul rasanya!\\n\\nbuat kalian yang pengguna aplikasi tik tok jangan lupa follow akunnya @mienyinyir_jog juga ya!\\n.\\n💰mulai rp 9.000\\n📌mie nyinyir jogja\\n-jl. babarsari\\n-jl. sorogenen, nitikan\\n-jl. godean km 4.5\\n-jl. patangpuluhan\\n-jl dr wahidin sudiro husodo, bantul\\n⏰09.00 - 22.00\\n.\\n#mahasiswakulineran #kulinermahasiswa #mienyinyirjogja #mienyinyir #miepedas #siomay #siomaypedas #miepedes</td>\n",
              "    </tr>\n",
              "    <tr>\n",
              "      <th>4</th>\n",
              "      <td>topokki time buka cabang lagi\\n.\\nwuihhh.. topokki time sekarang buka store baru lagi wonocatur, lho. seru banget kan? 😜\\n\\nyuk! buat kamu yang udah kepo sama rasa makanan korea dari topokki time bisa langsung datang ke store baru kita di jl. wonocatur no.97, banguntapan, bantul, diy\\n\\npsssttt… kamu juga bisa mendapatkan potongan harga sebesar 50%, lho.\\n\\nsyarat &amp; ketentuannya:\\n1. follow akun media sosial @topokki.time\\n2. buat insta story dan tag 3 teman kamu\\n3. subscribe youtube topokki time\\n4. periode ini berlaku untuk tanggal 27-28 juni 2021\\n5. berlaku kelipatan\\n6. berlaku pembelian take away\\n\\ncus.. berangkat ke store topokki time hari ini dan besok!🙌\\n.\\n#mahasiswakulineran #kulinermahasiswa #topokkitime #topokki #tteokbokki #odeng #koreanstreetfood #koreanfood</td>\n",
              "    </tr>\n",
              "  </tbody>\n",
              "</table>\n",
              "</div>"
            ],
            "text/plain": [
              "                                                                                                                                                                                                                                                                                                                                                                                                                                                                                                                                                                                                                                                                                                                                                                                                                                                                                                                                                                                                                                  captions\n",
              "0  makanan bali di jogja\\n.\\nmakan malam di hari minggu ini yang enak enak dulu gaes, tapi ini non halal ya gaes, yang gak berkenan skip aja hehehe\\n\\nnah ini makannya di bu kadek khas bali yang ada di selokan mataram bagian kalasan sleman\\n\\ndisini pesen 3 menu sekaligus, nasi campur spesial, sate b2, dan sate lilit b2. harganya terjangkau kok gaes semuanya.\\n\\nnasi campur spesialnya mantap, dapet nasi trancam, b2 rica, b2 kecap, sate b2, lawar, serta kuah sup. rasanya bikin nagih, nggak cukup 1 porsi hahaha\\n\\nsate lilit b2 nya gede gede, seporsi dapat 5 tusuk. bisa buat lauk ataupun digadoin. rasanya manis gurih dan bikin nagih juga, muantap\\n\\nsate b2 nya request pedes , bumbunya meresap ke dalam dagingnya, pedesnya masih enak nggak terlalu pedes\\n\\noverall semuanya recommended untuk dicoba!\\n.\\n💰menu di #pricelistkuliner_bukadekkhasbali\\n📌bu kadek khas bali\\njl. selokan mataram, kadirojo i, purwomartani, kalasan, sleman, diy\\n🗓selasa - minggu\\n⏰09.00 - 21.00\\n.\\n#mahasiswakuliner...\n",
              "1                                                                                                                                                                                                                                                                                                                                                                                       makan emik dirumah? bisa!\\n.\\nmau makan pas ppkm gini susah, kalian bisa ke @emik.id gaes yang ada di condongcatur\\n\\ndisini sudah support program ppkm dari pemerintah. kalian bisa pesen 4 macam varian mie disini, ada yang manis, pedas manis, asin, dan asin pedas. nggak cuma mie , tapi ada pangsit goreng, pangsit rebus, sampai kulit goreng juga ada.\\n\\ncusss order @emik.id sekarang juga!\\n.\\n💰rp 9000 - 30000\\n📌emik homemade noodles\\njl. anggajaya 2, sanggrahan, condongcatur, depok, sleman, diy\\n⏰13.00 - 21.00\\n⚠️jumat tutup\\n.\\n#mahasiswakulineran #kulinermahasiswa #emik #homemadenoodles #noodles #mie #bakmi #bakmiayam\n",
              "2                                                                                                                                                                                                                           lumpia samijaya\\n.\\nke jogja wajib banget cobain lumpia yang satu ini gaes, namanya lumpia samijaya, hits banget di malioboro\\n\\ntapi kalo ke pusat yang di malioboro biasanya antri panjang, mendingan ke cabangnya di jalan mataram gaes, lebih sepi dan bisa dine in\\n\\npilihannya ada 2 lumpia, lumpia ayam dan lumpia spesial. harganya murah kok gaes, cuma 5000 dan 6000 rupiah per bijinya. paling enak makan di tempat karna digoreng masih anget jadinya\\n\\nyang doyan lumpia wajib banget mampir kesini!\\n.\\n💰 rp 5000 (lumpia ayam)\\n💰 rp 6000 (lumpia spesial)\\n📌 lumpia samijaya\\njl.mataram no.44, suryatmajan, danurejan, kota yogyakarta, diy\\n(sebelah sop ayam pak min)\\n⏰10.00 - 21.00\\n.\\n#mahasiswakulineran #lumpiasamijaya #lumpiajogja #lumpiaayam #lumpia #lumpiagoreng #lumpiajogja\n",
              "3                                                                                                                                                                                                                                                       makan mie pedas di mie nyinyir\\n.\\nkalian suka makan mie dan rasa pedes? ke @mienyinyir_jog aja gaes\\n\\ndisini kalian bisa makan mie dengan level pedas sampai 30 cabe lho, bakal bikin nyinyir beneran deh\\nmienya lembut empuk, ada yang asin gurih dan manis gurih\\n\\nselain mie pedes , kalian bisa cobain juga siomay nyinyirnya gaes, pake cabe pedes juga, mantul rasanya!\\n\\nbuat kalian yang pengguna aplikasi tik tok jangan lupa follow akunnya @mienyinyir_jog juga ya!\\n.\\n💰mulai rp 9.000\\n📌mie nyinyir jogja\\n-jl. babarsari\\n-jl. sorogenen, nitikan\\n-jl. godean km 4.5\\n-jl. patangpuluhan\\n-jl dr wahidin sudiro husodo, bantul\\n⏰09.00 - 22.00\\n.\\n#mahasiswakulineran #kulinermahasiswa #mienyinyirjogja #mienyinyir #miepedas #siomay #siomaypedas #miepedes\n",
              "4                                                                                                                                                                                                                        topokki time buka cabang lagi\\n.\\nwuihhh.. topokki time sekarang buka store baru lagi wonocatur, lho. seru banget kan? 😜\\n\\nyuk! buat kamu yang udah kepo sama rasa makanan korea dari topokki time bisa langsung datang ke store baru kita di jl. wonocatur no.97, banguntapan, bantul, diy\\n\\npsssttt… kamu juga bisa mendapatkan potongan harga sebesar 50%, lho.\\n\\nsyarat & ketentuannya:\\n1. follow akun media sosial @topokki.time\\n2. buat insta story dan tag 3 teman kamu\\n3. subscribe youtube topokki time\\n4. periode ini berlaku untuk tanggal 27-28 juni 2021\\n5. berlaku kelipatan\\n6. berlaku pembelian take away\\n\\ncus.. berangkat ke store topokki time hari ini dan besok!🙌\\n.\\n#mahasiswakulineran #kulinermahasiswa #topokkitime #topokki #tteokbokki #odeng #koreanstreetfood #koreanfood"
            ]
          },
          "metadata": {
            "tags": []
          },
          "execution_count": 16
        }
      ]
    },
    {
      "cell_type": "code",
      "metadata": {
        "colab": {
          "base_uri": "https://localhost:8080/",
          "height": 476
        },
        "id": "XU0OvBZIBUfB",
        "outputId": "f5b7b346-64e2-42e5-f96b-0ead48b24a16"
      },
      "source": [
        "# Cleansing: membersihkan caption dari emoticon, karakter non-ASCII, tag, hastag, dan URL yang tidak diperlukan\n",
        "import string\n",
        "import re\n",
        "\n",
        "def fun_cleansing(text):\n",
        "  text = text.replace('\\\\t',' ').replace('\\\\n',' ').replace('\\\\u',' ').replace('\\\\','')\n",
        "  text = text.encode('ascii', 'replace').decode('ascii')\n",
        "  text = ' '.join(re.sub('([@#][A-Za-z0-9]+)|(\\w+:\\/\\/\\S+)',' ',text).split())\n",
        "  text = text.replace('http://',' ').replace('https://',' ')\n",
        "  return text\n",
        "\n",
        "hasil_cl = pd.DataFrame(columns = ['captions'])\n",
        "hasil_cl['captions'] = hasil_cf['captions'].apply(fun_cleansing)\n",
        "\n",
        "hasil_cl.head()"
      ],
      "execution_count": null,
      "outputs": [
        {
          "output_type": "execute_result",
          "data": {
            "text/html": [
              "<div>\n",
              "<style scoped>\n",
              "    .dataframe tbody tr th:only-of-type {\n",
              "        vertical-align: middle;\n",
              "    }\n",
              "\n",
              "    .dataframe tbody tr th {\n",
              "        vertical-align: top;\n",
              "    }\n",
              "\n",
              "    .dataframe thead th {\n",
              "        text-align: right;\n",
              "    }\n",
              "</style>\n",
              "<table border=\"1\" class=\"dataframe\">\n",
              "  <thead>\n",
              "    <tr style=\"text-align: right;\">\n",
              "      <th></th>\n",
              "      <th>captions</th>\n",
              "    </tr>\n",
              "  </thead>\n",
              "  <tbody>\n",
              "    <tr>\n",
              "      <th>0</th>\n",
              "      <td>makanan bali di jogja . makan malam di hari minggu ini yang enak enak dulu gaes, tapi ini non halal ya gaes, yang gak berkenan skip aja hehehe nah ini makannya di bu kadek khas bali yang ada di selokan mataram bagian kalasan sleman disini pesen 3 menu sekaligus, nasi campur spesial, sate b2, dan sate lilit b2. harganya terjangkau kok gaes semuanya. nasi campur spesialnya mantap, dapet nasi trancam, b2 rica, b2 kecap, sate b2, lawar, serta kuah sup. rasanya bikin nagih, nggak cukup 1 porsi hahaha sate lilit b2 nya gede gede, seporsi dapat 5 tusuk. bisa buat lauk ataupun digadoin. rasanya manis gurih dan bikin nagih juga, muantap sate b2 nya request pedes , bumbunya meresap ke dalam dagingnya, pedesnya masih enak nggak terlalu pedes overall semuanya recommended untuk dicoba! . ?menu di _bukadekkhasbali ?bu kadek khas bali jl. selokan mataram, kadirojo i, purwomartani, kalasan, sleman, diy ?selasa - minggu ?09.00 - 21.00 .</td>\n",
              "    </tr>\n",
              "    <tr>\n",
              "      <th>1</th>\n",
              "      <td>makan emik dirumah? bisa! . mau makan pas ppkm gini susah, kalian bisa ke .id gaes yang ada di condongcatur disini sudah support program ppkm dari pemerintah. kalian bisa pesen 4 macam varian mie disini, ada yang manis, pedas manis, asin, dan asin pedas. nggak cuma mie , tapi ada pangsit goreng, pangsit rebus, sampai kulit goreng juga ada. cusss order .id sekarang juga! . ?rp 9000 - 30000 ?emik homemade noodles jl. anggajaya 2, sanggrahan, condongcatur, depok, sleman, diy ?13.00 - 21.00 ??jumat tutup .</td>\n",
              "    </tr>\n",
              "    <tr>\n",
              "      <th>2</th>\n",
              "      <td>lumpia samijaya . ke jogja wajib banget cobain lumpia yang satu ini gaes, namanya lumpia samijaya, hits banget di malioboro tapi kalo ke pusat yang di malioboro biasanya antri panjang, mendingan ke cabangnya di jalan mataram gaes, lebih sepi dan bisa dine in pilihannya ada 2 lumpia, lumpia ayam dan lumpia spesial. harganya murah kok gaes, cuma 5000 dan 6000 rupiah per bijinya. paling enak makan di tempat karna digoreng masih anget jadinya yang doyan lumpia wajib banget mampir kesini! . ? rp 5000 (lumpia ayam) ? rp 6000 (lumpia spesial) ? lumpia samijaya jl.mataram no.44, suryatmajan, danurejan, kota yogyakarta, diy (sebelah sop ayam pak min) ?10.00 - 21.00 .</td>\n",
              "    </tr>\n",
              "    <tr>\n",
              "      <th>3</th>\n",
              "      <td>makan mie pedas di mie nyinyir . kalian suka makan mie dan rasa pedes? ke _jog aja gaes disini kalian bisa makan mie dengan level pedas sampai 30 cabe lho, bakal bikin nyinyir beneran deh mienya lembut empuk, ada yang asin gurih dan manis gurih selain mie pedes , kalian bisa cobain juga siomay nyinyirnya gaes, pake cabe pedes juga, mantul rasanya! buat kalian yang pengguna aplikasi tik tok jangan lupa follow akunnya _jog juga ya! . ?mulai rp 9.000 ?mie nyinyir jogja -jl. babarsari -jl. sorogenen, nitikan -jl. godean km 4.5 -jl. patangpuluhan -jl dr wahidin sudiro husodo, bantul ?09.00 - 22.00 .</td>\n",
              "    </tr>\n",
              "    <tr>\n",
              "      <th>4</th>\n",
              "      <td>topokki time buka cabang lagi . wuihhh.. topokki time sekarang buka store baru lagi wonocatur, lho. seru banget kan? ? yuk! buat kamu yang udah kepo sama rasa makanan korea dari topokki time bisa langsung datang ke store baru kita di jl. wonocatur no.97, banguntapan, bantul, diy psssttt? kamu juga bisa mendapatkan potongan harga sebesar 50%, lho. syarat &amp; ketentuannya: 1. follow akun media sosial .time 2. buat insta story dan tag 3 teman kamu 3. subscribe youtube topokki time 4. periode ini berlaku untuk tanggal 27-28 juni 2021 5. berlaku kelipatan 6. berlaku pembelian take away cus.. berangkat ke store topokki time hari ini dan besok!? .</td>\n",
              "    </tr>\n",
              "  </tbody>\n",
              "</table>\n",
              "</div>"
            ],
            "text/plain": [
              "                                                                                                                                                                                                                                                                                                                                                                                                                                                                                                                                                                                                                                                                                                                                                                                                                                                                                                                                                                captions\n",
              "0  makanan bali di jogja . makan malam di hari minggu ini yang enak enak dulu gaes, tapi ini non halal ya gaes, yang gak berkenan skip aja hehehe nah ini makannya di bu kadek khas bali yang ada di selokan mataram bagian kalasan sleman disini pesen 3 menu sekaligus, nasi campur spesial, sate b2, dan sate lilit b2. harganya terjangkau kok gaes semuanya. nasi campur spesialnya mantap, dapet nasi trancam, b2 rica, b2 kecap, sate b2, lawar, serta kuah sup. rasanya bikin nagih, nggak cukup 1 porsi hahaha sate lilit b2 nya gede gede, seporsi dapat 5 tusuk. bisa buat lauk ataupun digadoin. rasanya manis gurih dan bikin nagih juga, muantap sate b2 nya request pedes , bumbunya meresap ke dalam dagingnya, pedesnya masih enak nggak terlalu pedes overall semuanya recommended untuk dicoba! . ?menu di _bukadekkhasbali ?bu kadek khas bali jl. selokan mataram, kadirojo i, purwomartani, kalasan, sleman, diy ?selasa - minggu ?09.00 - 21.00 .\n",
              "1                                                                                                                                                                                                                                                                                                                                                                                                                                            makan emik dirumah? bisa! . mau makan pas ppkm gini susah, kalian bisa ke .id gaes yang ada di condongcatur disini sudah support program ppkm dari pemerintah. kalian bisa pesen 4 macam varian mie disini, ada yang manis, pedas manis, asin, dan asin pedas. nggak cuma mie , tapi ada pangsit goreng, pangsit rebus, sampai kulit goreng juga ada. cusss order .id sekarang juga! . ?rp 9000 - 30000 ?emik homemade noodles jl. anggajaya 2, sanggrahan, condongcatur, depok, sleman, diy ?13.00 - 21.00 ??jumat tutup .\n",
              "2                                                                                                                                                                                                                                                                             lumpia samijaya . ke jogja wajib banget cobain lumpia yang satu ini gaes, namanya lumpia samijaya, hits banget di malioboro tapi kalo ke pusat yang di malioboro biasanya antri panjang, mendingan ke cabangnya di jalan mataram gaes, lebih sepi dan bisa dine in pilihannya ada 2 lumpia, lumpia ayam dan lumpia spesial. harganya murah kok gaes, cuma 5000 dan 6000 rupiah per bijinya. paling enak makan di tempat karna digoreng masih anget jadinya yang doyan lumpia wajib banget mampir kesini! . ? rp 5000 (lumpia ayam) ? rp 6000 (lumpia spesial) ? lumpia samijaya jl.mataram no.44, suryatmajan, danurejan, kota yogyakarta, diy (sebelah sop ayam pak min) ?10.00 - 21.00 .\n",
              "3                                                                                                                                                                                                                                                                                                                                              makan mie pedas di mie nyinyir . kalian suka makan mie dan rasa pedes? ke _jog aja gaes disini kalian bisa makan mie dengan level pedas sampai 30 cabe lho, bakal bikin nyinyir beneran deh mienya lembut empuk, ada yang asin gurih dan manis gurih selain mie pedes , kalian bisa cobain juga siomay nyinyirnya gaes, pake cabe pedes juga, mantul rasanya! buat kalian yang pengguna aplikasi tik tok jangan lupa follow akunnya _jog juga ya! . ?mulai rp 9.000 ?mie nyinyir jogja -jl. babarsari -jl. sorogenen, nitikan -jl. godean km 4.5 -jl. patangpuluhan -jl dr wahidin sudiro husodo, bantul ?09.00 - 22.00 .\n",
              "4                                                                                                                                                                                                                                                                                                 topokki time buka cabang lagi . wuihhh.. topokki time sekarang buka store baru lagi wonocatur, lho. seru banget kan? ? yuk! buat kamu yang udah kepo sama rasa makanan korea dari topokki time bisa langsung datang ke store baru kita di jl. wonocatur no.97, banguntapan, bantul, diy psssttt? kamu juga bisa mendapatkan potongan harga sebesar 50%, lho. syarat & ketentuannya: 1. follow akun media sosial .time 2. buat insta story dan tag 3 teman kamu 3. subscribe youtube topokki time 4. periode ini berlaku untuk tanggal 27-28 juni 2021 5. berlaku kelipatan 6. berlaku pembelian take away cus.. berangkat ke store topokki time hari ini dan besok!? ."
            ]
          },
          "metadata": {
            "tags": []
          },
          "execution_count": 17
        }
      ]
    },
    {
      "cell_type": "code",
      "metadata": {
        "colab": {
          "base_uri": "https://localhost:8080/",
          "height": 459
        },
        "id": "UGrv5pwAE31R",
        "outputId": "cfecd309-6cf0-4b41-ca03-475bbb24fe62"
      },
      "source": [
        "# Remove punctuation: menghapus simbol atau tanda baca\n",
        "def fun_rem_punct(text):\n",
        "  return text.translate(str.maketrans('','',string.punctuation))\n",
        "\n",
        "hasil_remp = pd.DataFrame(columns = ['captions'])\n",
        "hasil_remp['captions'] = hasil_cl['captions'].apply(fun_rem_punct)\n",
        "\n",
        "hasil_remp.head()"
      ],
      "execution_count": null,
      "outputs": [
        {
          "output_type": "execute_result",
          "data": {
            "text/html": [
              "<div>\n",
              "<style scoped>\n",
              "    .dataframe tbody tr th:only-of-type {\n",
              "        vertical-align: middle;\n",
              "    }\n",
              "\n",
              "    .dataframe tbody tr th {\n",
              "        vertical-align: top;\n",
              "    }\n",
              "\n",
              "    .dataframe thead th {\n",
              "        text-align: right;\n",
              "    }\n",
              "</style>\n",
              "<table border=\"1\" class=\"dataframe\">\n",
              "  <thead>\n",
              "    <tr style=\"text-align: right;\">\n",
              "      <th></th>\n",
              "      <th>captions</th>\n",
              "    </tr>\n",
              "  </thead>\n",
              "  <tbody>\n",
              "    <tr>\n",
              "      <th>0</th>\n",
              "      <td>makanan bali di jogja  makan malam di hari minggu ini yang enak enak dulu gaes tapi ini non halal ya gaes yang gak berkenan skip aja hehehe nah ini makannya di bu kadek khas bali yang ada di selokan mataram bagian kalasan sleman disini pesen 3 menu sekaligus nasi campur spesial sate b2 dan sate lilit b2 harganya terjangkau kok gaes semuanya nasi campur spesialnya mantap dapet nasi trancam b2 rica b2 kecap sate b2 lawar serta kuah sup rasanya bikin nagih nggak cukup 1 porsi hahaha sate lilit b2 nya gede gede seporsi dapat 5 tusuk bisa buat lauk ataupun digadoin rasanya manis gurih dan bikin nagih juga muantap sate b2 nya request pedes  bumbunya meresap ke dalam dagingnya pedesnya masih enak nggak terlalu pedes overall semuanya recommended untuk dicoba  menu di bukadekkhasbali bu kadek khas bali jl selokan mataram kadirojo i purwomartani kalasan sleman diy selasa  minggu 0900  2100</td>\n",
              "    </tr>\n",
              "    <tr>\n",
              "      <th>1</th>\n",
              "      <td>makan emik dirumah bisa  mau makan pas ppkm gini susah kalian bisa ke id gaes yang ada di condongcatur disini sudah support program ppkm dari pemerintah kalian bisa pesen 4 macam varian mie disini ada yang manis pedas manis asin dan asin pedas nggak cuma mie  tapi ada pangsit goreng pangsit rebus sampai kulit goreng juga ada cusss order id sekarang juga  rp 9000  30000 emik homemade noodles jl anggajaya 2 sanggrahan condongcatur depok sleman diy 1300  2100 jumat tutup</td>\n",
              "    </tr>\n",
              "    <tr>\n",
              "      <th>2</th>\n",
              "      <td>lumpia samijaya  ke jogja wajib banget cobain lumpia yang satu ini gaes namanya lumpia samijaya hits banget di malioboro tapi kalo ke pusat yang di malioboro biasanya antri panjang mendingan ke cabangnya di jalan mataram gaes lebih sepi dan bisa dine in pilihannya ada 2 lumpia lumpia ayam dan lumpia spesial harganya murah kok gaes cuma 5000 dan 6000 rupiah per bijinya paling enak makan di tempat karna digoreng masih anget jadinya yang doyan lumpia wajib banget mampir kesini   rp 5000 lumpia ayam  rp 6000 lumpia spesial  lumpia samijaya jlmataram no44 suryatmajan danurejan kota yogyakarta diy sebelah sop ayam pak min 1000  2100</td>\n",
              "    </tr>\n",
              "    <tr>\n",
              "      <th>3</th>\n",
              "      <td>makan mie pedas di mie nyinyir  kalian suka makan mie dan rasa pedes ke jog aja gaes disini kalian bisa makan mie dengan level pedas sampai 30 cabe lho bakal bikin nyinyir beneran deh mienya lembut empuk ada yang asin gurih dan manis gurih selain mie pedes  kalian bisa cobain juga siomay nyinyirnya gaes pake cabe pedes juga mantul rasanya buat kalian yang pengguna aplikasi tik tok jangan lupa follow akunnya jog juga ya  mulai rp 9000 mie nyinyir jogja jl babarsari jl sorogenen nitikan jl godean km 45 jl patangpuluhan jl dr wahidin sudiro husodo bantul 0900  2200</td>\n",
              "    </tr>\n",
              "    <tr>\n",
              "      <th>4</th>\n",
              "      <td>topokki time buka cabang lagi  wuihhh topokki time sekarang buka store baru lagi wonocatur lho seru banget kan  yuk buat kamu yang udah kepo sama rasa makanan korea dari topokki time bisa langsung datang ke store baru kita di jl wonocatur no97 banguntapan bantul diy psssttt kamu juga bisa mendapatkan potongan harga sebesar 50 lho syarat  ketentuannya 1 follow akun media sosial time 2 buat insta story dan tag 3 teman kamu 3 subscribe youtube topokki time 4 periode ini berlaku untuk tanggal 2728 juni 2021 5 berlaku kelipatan 6 berlaku pembelian take away cus berangkat ke store topokki time hari ini dan besok</td>\n",
              "    </tr>\n",
              "  </tbody>\n",
              "</table>\n",
              "</div>"
            ],
            "text/plain": [
              "                                                                                                                                                                                                                                                                                                                                                                                                                                                                                                                                                                                                                                                                                                                                                                                                                                                                                                                        captions\n",
              "0  makanan bali di jogja  makan malam di hari minggu ini yang enak enak dulu gaes tapi ini non halal ya gaes yang gak berkenan skip aja hehehe nah ini makannya di bu kadek khas bali yang ada di selokan mataram bagian kalasan sleman disini pesen 3 menu sekaligus nasi campur spesial sate b2 dan sate lilit b2 harganya terjangkau kok gaes semuanya nasi campur spesialnya mantap dapet nasi trancam b2 rica b2 kecap sate b2 lawar serta kuah sup rasanya bikin nagih nggak cukup 1 porsi hahaha sate lilit b2 nya gede gede seporsi dapat 5 tusuk bisa buat lauk ataupun digadoin rasanya manis gurih dan bikin nagih juga muantap sate b2 nya request pedes  bumbunya meresap ke dalam dagingnya pedesnya masih enak nggak terlalu pedes overall semuanya recommended untuk dicoba  menu di bukadekkhasbali bu kadek khas bali jl selokan mataram kadirojo i purwomartani kalasan sleman diy selasa  minggu 0900  2100 \n",
              "1                                                                                                                                                                                                                                                                                                                                                                                                                                      makan emik dirumah bisa  mau makan pas ppkm gini susah kalian bisa ke id gaes yang ada di condongcatur disini sudah support program ppkm dari pemerintah kalian bisa pesen 4 macam varian mie disini ada yang manis pedas manis asin dan asin pedas nggak cuma mie  tapi ada pangsit goreng pangsit rebus sampai kulit goreng juga ada cusss order id sekarang juga  rp 9000  30000 emik homemade noodles jl anggajaya 2 sanggrahan condongcatur depok sleman diy 1300  2100 jumat tutup \n",
              "2                                                                                                                                                                                                                                                                    lumpia samijaya  ke jogja wajib banget cobain lumpia yang satu ini gaes namanya lumpia samijaya hits banget di malioboro tapi kalo ke pusat yang di malioboro biasanya antri panjang mendingan ke cabangnya di jalan mataram gaes lebih sepi dan bisa dine in pilihannya ada 2 lumpia lumpia ayam dan lumpia spesial harganya murah kok gaes cuma 5000 dan 6000 rupiah per bijinya paling enak makan di tempat karna digoreng masih anget jadinya yang doyan lumpia wajib banget mampir kesini   rp 5000 lumpia ayam  rp 6000 lumpia spesial  lumpia samijaya jlmataram no44 suryatmajan danurejan kota yogyakarta diy sebelah sop ayam pak min 1000  2100 \n",
              "3                                                                                                                                                                                                                                                                                                                                      makan mie pedas di mie nyinyir  kalian suka makan mie dan rasa pedes ke jog aja gaes disini kalian bisa makan mie dengan level pedas sampai 30 cabe lho bakal bikin nyinyir beneran deh mienya lembut empuk ada yang asin gurih dan manis gurih selain mie pedes  kalian bisa cobain juga siomay nyinyirnya gaes pake cabe pedes juga mantul rasanya buat kalian yang pengguna aplikasi tik tok jangan lupa follow akunnya jog juga ya  mulai rp 9000 mie nyinyir jogja jl babarsari jl sorogenen nitikan jl godean km 45 jl patangpuluhan jl dr wahidin sudiro husodo bantul 0900  2200 \n",
              "4                                                                                                                                                                                                                                                                                         topokki time buka cabang lagi  wuihhh topokki time sekarang buka store baru lagi wonocatur lho seru banget kan  yuk buat kamu yang udah kepo sama rasa makanan korea dari topokki time bisa langsung datang ke store baru kita di jl wonocatur no97 banguntapan bantul diy psssttt kamu juga bisa mendapatkan potongan harga sebesar 50 lho syarat  ketentuannya 1 follow akun media sosial time 2 buat insta story dan tag 3 teman kamu 3 subscribe youtube topokki time 4 periode ini berlaku untuk tanggal 2728 juni 2021 5 berlaku kelipatan 6 berlaku pembelian take away cus berangkat ke store topokki time hari ini dan besok "
            ]
          },
          "metadata": {
            "tags": []
          },
          "execution_count": 18
        }
      ]
    },
    {
      "cell_type": "code",
      "metadata": {
        "colab": {
          "base_uri": "https://localhost:8080/",
          "height": 442
        },
        "id": "j1P1itPKJtUi",
        "outputId": "9cf5e571-92aa-40ad-e3be-6bc6d9346b8d"
      },
      "source": [
        "# Remove number: menghapus angka\n",
        "def fun_rem_num(text):\n",
        "  return re.sub(r'\\d+','',text)\n",
        "\n",
        "hasil_remn = pd.DataFrame(columns = ['captions'])\n",
        "hasil_remn['captions'] = hasil_remp['captions'].apply(fun_rem_num)\n",
        "\n",
        "hasil_remn.head()"
      ],
      "execution_count": null,
      "outputs": [
        {
          "output_type": "execute_result",
          "data": {
            "text/html": [
              "<div>\n",
              "<style scoped>\n",
              "    .dataframe tbody tr th:only-of-type {\n",
              "        vertical-align: middle;\n",
              "    }\n",
              "\n",
              "    .dataframe tbody tr th {\n",
              "        vertical-align: top;\n",
              "    }\n",
              "\n",
              "    .dataframe thead th {\n",
              "        text-align: right;\n",
              "    }\n",
              "</style>\n",
              "<table border=\"1\" class=\"dataframe\">\n",
              "  <thead>\n",
              "    <tr style=\"text-align: right;\">\n",
              "      <th></th>\n",
              "      <th>captions</th>\n",
              "    </tr>\n",
              "  </thead>\n",
              "  <tbody>\n",
              "    <tr>\n",
              "      <th>0</th>\n",
              "      <td>makanan bali di jogja  makan malam di hari minggu ini yang enak enak dulu gaes tapi ini non halal ya gaes yang gak berkenan skip aja hehehe nah ini makannya di bu kadek khas bali yang ada di selokan mataram bagian kalasan sleman disini pesen  menu sekaligus nasi campur spesial sate b dan sate lilit b harganya terjangkau kok gaes semuanya nasi campur spesialnya mantap dapet nasi trancam b rica b kecap sate b lawar serta kuah sup rasanya bikin nagih nggak cukup  porsi hahaha sate lilit b nya gede gede seporsi dapat  tusuk bisa buat lauk ataupun digadoin rasanya manis gurih dan bikin nagih juga muantap sate b nya request pedes  bumbunya meresap ke dalam dagingnya pedesnya masih enak nggak terlalu pedes overall semuanya recommended untuk dicoba  menu di bukadekkhasbali bu kadek khas bali jl selokan mataram kadirojo i purwomartani kalasan sleman diy selasa  minggu</td>\n",
              "    </tr>\n",
              "    <tr>\n",
              "      <th>1</th>\n",
              "      <td>makan emik dirumah bisa  mau makan pas ppkm gini susah kalian bisa ke id gaes yang ada di condongcatur disini sudah support program ppkm dari pemerintah kalian bisa pesen  macam varian mie disini ada yang manis pedas manis asin dan asin pedas nggak cuma mie  tapi ada pangsit goreng pangsit rebus sampai kulit goreng juga ada cusss order id sekarang juga  rp    emik homemade noodles jl anggajaya  sanggrahan condongcatur depok sleman diy    jumat tutup</td>\n",
              "    </tr>\n",
              "    <tr>\n",
              "      <th>2</th>\n",
              "      <td>lumpia samijaya  ke jogja wajib banget cobain lumpia yang satu ini gaes namanya lumpia samijaya hits banget di malioboro tapi kalo ke pusat yang di malioboro biasanya antri panjang mendingan ke cabangnya di jalan mataram gaes lebih sepi dan bisa dine in pilihannya ada  lumpia lumpia ayam dan lumpia spesial harganya murah kok gaes cuma  dan  rupiah per bijinya paling enak makan di tempat karna digoreng masih anget jadinya yang doyan lumpia wajib banget mampir kesini   rp  lumpia ayam  rp  lumpia spesial  lumpia samijaya jlmataram no suryatmajan danurejan kota yogyakarta diy sebelah sop ayam pak min</td>\n",
              "    </tr>\n",
              "    <tr>\n",
              "      <th>3</th>\n",
              "      <td>makan mie pedas di mie nyinyir  kalian suka makan mie dan rasa pedes ke jog aja gaes disini kalian bisa makan mie dengan level pedas sampai  cabe lho bakal bikin nyinyir beneran deh mienya lembut empuk ada yang asin gurih dan manis gurih selain mie pedes  kalian bisa cobain juga siomay nyinyirnya gaes pake cabe pedes juga mantul rasanya buat kalian yang pengguna aplikasi tik tok jangan lupa follow akunnya jog juga ya  mulai rp  mie nyinyir jogja jl babarsari jl sorogenen nitikan jl godean km  jl patangpuluhan jl dr wahidin sudiro husodo bantul</td>\n",
              "    </tr>\n",
              "    <tr>\n",
              "      <th>4</th>\n",
              "      <td>topokki time buka cabang lagi  wuihhh topokki time sekarang buka store baru lagi wonocatur lho seru banget kan  yuk buat kamu yang udah kepo sama rasa makanan korea dari topokki time bisa langsung datang ke store baru kita di jl wonocatur no banguntapan bantul diy psssttt kamu juga bisa mendapatkan potongan harga sebesar  lho syarat  ketentuannya  follow akun media sosial time  buat insta story dan tag  teman kamu  subscribe youtube topokki time  periode ini berlaku untuk tanggal  juni   berlaku kelipatan  berlaku pembelian take away cus berangkat ke store topokki time hari ini dan besok</td>\n",
              "    </tr>\n",
              "  </tbody>\n",
              "</table>\n",
              "</div>"
            ],
            "text/plain": [
              "                                                                                                                                                                                                                                                                                                                                                                                                                                                                                                                                                                                                                                                                                                                                                                                                                                                                                                      captions\n",
              "0  makanan bali di jogja  makan malam di hari minggu ini yang enak enak dulu gaes tapi ini non halal ya gaes yang gak berkenan skip aja hehehe nah ini makannya di bu kadek khas bali yang ada di selokan mataram bagian kalasan sleman disini pesen  menu sekaligus nasi campur spesial sate b dan sate lilit b harganya terjangkau kok gaes semuanya nasi campur spesialnya mantap dapet nasi trancam b rica b kecap sate b lawar serta kuah sup rasanya bikin nagih nggak cukup  porsi hahaha sate lilit b nya gede gede seporsi dapat  tusuk bisa buat lauk ataupun digadoin rasanya manis gurih dan bikin nagih juga muantap sate b nya request pedes  bumbunya meresap ke dalam dagingnya pedesnya masih enak nggak terlalu pedes overall semuanya recommended untuk dicoba  menu di bukadekkhasbali bu kadek khas bali jl selokan mataram kadirojo i purwomartani kalasan sleman diy selasa  minggu    \n",
              "1                                                                                                                                                                                                                                                                                                                                                                                                                                       makan emik dirumah bisa  mau makan pas ppkm gini susah kalian bisa ke id gaes yang ada di condongcatur disini sudah support program ppkm dari pemerintah kalian bisa pesen  macam varian mie disini ada yang manis pedas manis asin dan asin pedas nggak cuma mie  tapi ada pangsit goreng pangsit rebus sampai kulit goreng juga ada cusss order id sekarang juga  rp    emik homemade noodles jl anggajaya  sanggrahan condongcatur depok sleman diy    jumat tutup \n",
              "2                                                                                                                                                                                                                                                                             lumpia samijaya  ke jogja wajib banget cobain lumpia yang satu ini gaes namanya lumpia samijaya hits banget di malioboro tapi kalo ke pusat yang di malioboro biasanya antri panjang mendingan ke cabangnya di jalan mataram gaes lebih sepi dan bisa dine in pilihannya ada  lumpia lumpia ayam dan lumpia spesial harganya murah kok gaes cuma  dan  rupiah per bijinya paling enak makan di tempat karna digoreng masih anget jadinya yang doyan lumpia wajib banget mampir kesini   rp  lumpia ayam  rp  lumpia spesial  lumpia samijaya jlmataram no suryatmajan danurejan kota yogyakarta diy sebelah sop ayam pak min    \n",
              "3                                                                                                                                                                                                                                                                                                                                    makan mie pedas di mie nyinyir  kalian suka makan mie dan rasa pedes ke jog aja gaes disini kalian bisa makan mie dengan level pedas sampai  cabe lho bakal bikin nyinyir beneran deh mienya lembut empuk ada yang asin gurih dan manis gurih selain mie pedes  kalian bisa cobain juga siomay nyinyirnya gaes pake cabe pedes juga mantul rasanya buat kalian yang pengguna aplikasi tik tok jangan lupa follow akunnya jog juga ya  mulai rp  mie nyinyir jogja jl babarsari jl sorogenen nitikan jl godean km  jl patangpuluhan jl dr wahidin sudiro husodo bantul    \n",
              "4                                                                                                                                                                                                                                                                                          topokki time buka cabang lagi  wuihhh topokki time sekarang buka store baru lagi wonocatur lho seru banget kan  yuk buat kamu yang udah kepo sama rasa makanan korea dari topokki time bisa langsung datang ke store baru kita di jl wonocatur no banguntapan bantul diy psssttt kamu juga bisa mendapatkan potongan harga sebesar  lho syarat  ketentuannya  follow akun media sosial time  buat insta story dan tag  teman kamu  subscribe youtube topokki time  periode ini berlaku untuk tanggal  juni   berlaku kelipatan  berlaku pembelian take away cus berangkat ke store topokki time hari ini dan besok "
            ]
          },
          "metadata": {
            "tags": []
          },
          "execution_count": 19
        }
      ]
    },
    {
      "cell_type": "code",
      "metadata": {
        "colab": {
          "base_uri": "https://localhost:8080/",
          "height": 442
        },
        "id": "mCKRlgPeDGWl",
        "outputId": "782809f2-652b-4e49-c1e0-42b7a1fe7879"
      },
      "source": [
        "# Remove single letter: menghapus kata yang hanya terdiri atas satu huruf\n",
        "hasil_remsl = pd.DataFrame(columns = ['captions'])\n",
        "hasil_remsl['captions'] = hasil_remn['captions'].str.replace(r'\\b\\w\\b','').str.replace(r'\\s+',' ')\n",
        "\n",
        "hasil_remsl.head()"
      ],
      "execution_count": null,
      "outputs": [
        {
          "output_type": "execute_result",
          "data": {
            "text/html": [
              "<div>\n",
              "<style scoped>\n",
              "    .dataframe tbody tr th:only-of-type {\n",
              "        vertical-align: middle;\n",
              "    }\n",
              "\n",
              "    .dataframe tbody tr th {\n",
              "        vertical-align: top;\n",
              "    }\n",
              "\n",
              "    .dataframe thead th {\n",
              "        text-align: right;\n",
              "    }\n",
              "</style>\n",
              "<table border=\"1\" class=\"dataframe\">\n",
              "  <thead>\n",
              "    <tr style=\"text-align: right;\">\n",
              "      <th></th>\n",
              "      <th>captions</th>\n",
              "    </tr>\n",
              "  </thead>\n",
              "  <tbody>\n",
              "    <tr>\n",
              "      <th>0</th>\n",
              "      <td>makanan bali di jogja makan malam di hari minggu ini yang enak enak dulu gaes tapi ini non halal ya gaes yang gak berkenan skip aja hehehe nah ini makannya di bu kadek khas bali yang ada di selokan mataram bagian kalasan sleman disini pesen menu sekaligus nasi campur spesial sate dan sate lilit harganya terjangkau kok gaes semuanya nasi campur spesialnya mantap dapet nasi trancam rica kecap sate lawar serta kuah sup rasanya bikin nagih nggak cukup porsi hahaha sate lilit nya gede gede seporsi dapat tusuk bisa buat lauk ataupun digadoin rasanya manis gurih dan bikin nagih juga muantap sate nya request pedes bumbunya meresap ke dalam dagingnya pedesnya masih enak nggak terlalu pedes overall semuanya recommended untuk dicoba menu di bukadekkhasbali bu kadek khas bali jl selokan mataram kadirojo purwomartani kalasan sleman diy selasa minggu</td>\n",
              "    </tr>\n",
              "    <tr>\n",
              "      <th>1</th>\n",
              "      <td>makan emik dirumah bisa mau makan pas ppkm gini susah kalian bisa ke id gaes yang ada di condongcatur disini sudah support program ppkm dari pemerintah kalian bisa pesen macam varian mie disini ada yang manis pedas manis asin dan asin pedas nggak cuma mie tapi ada pangsit goreng pangsit rebus sampai kulit goreng juga ada cusss order id sekarang juga rp emik homemade noodles jl anggajaya sanggrahan condongcatur depok sleman diy jumat tutup</td>\n",
              "    </tr>\n",
              "    <tr>\n",
              "      <th>2</th>\n",
              "      <td>lumpia samijaya ke jogja wajib banget cobain lumpia yang satu ini gaes namanya lumpia samijaya hits banget di malioboro tapi kalo ke pusat yang di malioboro biasanya antri panjang mendingan ke cabangnya di jalan mataram gaes lebih sepi dan bisa dine in pilihannya ada lumpia lumpia ayam dan lumpia spesial harganya murah kok gaes cuma dan rupiah per bijinya paling enak makan di tempat karna digoreng masih anget jadinya yang doyan lumpia wajib banget mampir kesini rp lumpia ayam rp lumpia spesial lumpia samijaya jlmataram no suryatmajan danurejan kota yogyakarta diy sebelah sop ayam pak min</td>\n",
              "    </tr>\n",
              "    <tr>\n",
              "      <th>3</th>\n",
              "      <td>makan mie pedas di mie nyinyir kalian suka makan mie dan rasa pedes ke jog aja gaes disini kalian bisa makan mie dengan level pedas sampai cabe lho bakal bikin nyinyir beneran deh mienya lembut empuk ada yang asin gurih dan manis gurih selain mie pedes kalian bisa cobain juga siomay nyinyirnya gaes pake cabe pedes juga mantul rasanya buat kalian yang pengguna aplikasi tik tok jangan lupa follow akunnya jog juga ya mulai rp mie nyinyir jogja jl babarsari jl sorogenen nitikan jl godean km jl patangpuluhan jl dr wahidin sudiro husodo bantul</td>\n",
              "    </tr>\n",
              "    <tr>\n",
              "      <th>4</th>\n",
              "      <td>topokki time buka cabang lagi wuihhh topokki time sekarang buka store baru lagi wonocatur lho seru banget kan yuk buat kamu yang udah kepo sama rasa makanan korea dari topokki time bisa langsung datang ke store baru kita di jl wonocatur no banguntapan bantul diy psssttt kamu juga bisa mendapatkan potongan harga sebesar lho syarat ketentuannya follow akun media sosial time buat insta story dan tag teman kamu subscribe youtube topokki time periode ini berlaku untuk tanggal juni berlaku kelipatan berlaku pembelian take away cus berangkat ke store topokki time hari ini dan besok</td>\n",
              "    </tr>\n",
              "  </tbody>\n",
              "</table>\n",
              "</div>"
            ],
            "text/plain": [
              "                                                                                                                                                                                                                                                                                                                                                                                                                                                                                                                                                                                                                                                                                                                                                                                                                                                                            captions\n",
              "0  makanan bali di jogja makan malam di hari minggu ini yang enak enak dulu gaes tapi ini non halal ya gaes yang gak berkenan skip aja hehehe nah ini makannya di bu kadek khas bali yang ada di selokan mataram bagian kalasan sleman disini pesen menu sekaligus nasi campur spesial sate dan sate lilit harganya terjangkau kok gaes semuanya nasi campur spesialnya mantap dapet nasi trancam rica kecap sate lawar serta kuah sup rasanya bikin nagih nggak cukup porsi hahaha sate lilit nya gede gede seporsi dapat tusuk bisa buat lauk ataupun digadoin rasanya manis gurih dan bikin nagih juga muantap sate nya request pedes bumbunya meresap ke dalam dagingnya pedesnya masih enak nggak terlalu pedes overall semuanya recommended untuk dicoba menu di bukadekkhasbali bu kadek khas bali jl selokan mataram kadirojo purwomartani kalasan sleman diy selasa minggu \n",
              "1                                                                                                                                                                                                                                                                                                                                                                                                                        makan emik dirumah bisa mau makan pas ppkm gini susah kalian bisa ke id gaes yang ada di condongcatur disini sudah support program ppkm dari pemerintah kalian bisa pesen macam varian mie disini ada yang manis pedas manis asin dan asin pedas nggak cuma mie tapi ada pangsit goreng pangsit rebus sampai kulit goreng juga ada cusss order id sekarang juga rp emik homemade noodles jl anggajaya sanggrahan condongcatur depok sleman diy jumat tutup \n",
              "2                                                                                                                                                                                                                                                                lumpia samijaya ke jogja wajib banget cobain lumpia yang satu ini gaes namanya lumpia samijaya hits banget di malioboro tapi kalo ke pusat yang di malioboro biasanya antri panjang mendingan ke cabangnya di jalan mataram gaes lebih sepi dan bisa dine in pilihannya ada lumpia lumpia ayam dan lumpia spesial harganya murah kok gaes cuma dan rupiah per bijinya paling enak makan di tempat karna digoreng masih anget jadinya yang doyan lumpia wajib banget mampir kesini rp lumpia ayam rp lumpia spesial lumpia samijaya jlmataram no suryatmajan danurejan kota yogyakarta diy sebelah sop ayam pak min \n",
              "3                                                                                                                                                                                                                                                                                                                   makan mie pedas di mie nyinyir kalian suka makan mie dan rasa pedes ke jog aja gaes disini kalian bisa makan mie dengan level pedas sampai cabe lho bakal bikin nyinyir beneran deh mienya lembut empuk ada yang asin gurih dan manis gurih selain mie pedes kalian bisa cobain juga siomay nyinyirnya gaes pake cabe pedes juga mantul rasanya buat kalian yang pengguna aplikasi tik tok jangan lupa follow akunnya jog juga ya mulai rp mie nyinyir jogja jl babarsari jl sorogenen nitikan jl godean km jl patangpuluhan jl dr wahidin sudiro husodo bantul \n",
              "4                                                                                                                                                                                                                                                                             topokki time buka cabang lagi wuihhh topokki time sekarang buka store baru lagi wonocatur lho seru banget kan yuk buat kamu yang udah kepo sama rasa makanan korea dari topokki time bisa langsung datang ke store baru kita di jl wonocatur no banguntapan bantul diy psssttt kamu juga bisa mendapatkan potongan harga sebesar lho syarat ketentuannya follow akun media sosial time buat insta story dan tag teman kamu subscribe youtube topokki time periode ini berlaku untuk tanggal juni berlaku kelipatan berlaku pembelian take away cus berangkat ke store topokki time hari ini dan besok "
            ]
          },
          "metadata": {
            "tags": []
          },
          "execution_count": 20
        }
      ]
    },
    {
      "cell_type": "code",
      "metadata": {
        "id": "GLysqNfkIzF2"
      },
      "source": [
        "# Menyimpan dataset hasil preprocessing ke dalam file TXT\n",
        "dataset_fix = hasil_remsl.to_csv(r'/content/drive/My Drive/Colab Notebooks/datasets/dataset_fix.txt', header=None, index=None, mode='a')"
      ],
      "execution_count": null,
      "outputs": []
    }
  ]
}