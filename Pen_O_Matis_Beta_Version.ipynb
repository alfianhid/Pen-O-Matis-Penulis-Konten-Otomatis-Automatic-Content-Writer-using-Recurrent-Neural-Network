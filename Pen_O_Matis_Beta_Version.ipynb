{
  "nbformat": 4,
  "nbformat_minor": 0,
  "metadata": {
    "accelerator": "GPU",
    "colab": {
      "provenance": []
    },
    "kernelspec": {
      "display_name": "Python 3",
      "language": "python",
      "name": "python3"
    },
    "language_info": {
      "codemirror_mode": {
        "name": "ipython",
        "version": 3
      },
      "file_extension": ".py",
      "mimetype": "text/x-python",
      "name": "python",
      "nbconvert_exporter": "python",
      "pygments_lexer": "ipython3",
      "version": "3.7.6"
    }
  },
  "cells": [
    {
      "cell_type": "code",
      "metadata": {
        "colab": {
          "base_uri": "https://localhost:8080/"
        },
        "id": "CdxMPY-xQAP2",
        "outputId": "7948b147-0f7c-4ad7-d452-db55760580ae"
      },
      "source": [
        "# install library untuk mengetahui berapa lama execution time tiap baris kode\n",
        "!pip install ipython-autotime\n",
        "%load_ext autotime"
      ],
      "execution_count": null,
      "outputs": [
        {
          "output_type": "stream",
          "text": [
            "Requirement already satisfied: ipython-autotime in /usr/local/lib/python3.7/dist-packages (0.3.1)\n",
            "Requirement already satisfied: ipython in /usr/local/lib/python3.7/dist-packages (from ipython-autotime) (5.5.0)\n",
            "Requirement already satisfied: simplegeneric>0.8 in /usr/local/lib/python3.7/dist-packages (from ipython->ipython-autotime) (0.8.1)\n",
            "Requirement already satisfied: pexpect in /usr/local/lib/python3.7/dist-packages (from ipython->ipython-autotime) (4.8.0)\n",
            "Requirement already satisfied: pygments in /usr/local/lib/python3.7/dist-packages (from ipython->ipython-autotime) (2.6.1)\n",
            "Requirement already satisfied: decorator in /usr/local/lib/python3.7/dist-packages (from ipython->ipython-autotime) (4.4.2)\n",
            "Requirement already satisfied: setuptools>=18.5 in /usr/local/lib/python3.7/dist-packages (from ipython->ipython-autotime) (57.2.0)\n",
            "Requirement already satisfied: pickleshare in /usr/local/lib/python3.7/dist-packages (from ipython->ipython-autotime) (0.7.5)\n",
            "Requirement already satisfied: traitlets>=4.2 in /usr/local/lib/python3.7/dist-packages (from ipython->ipython-autotime) (5.0.5)\n",
            "Requirement already satisfied: prompt-toolkit<2.0.0,>=1.0.4 in /usr/local/lib/python3.7/dist-packages (from ipython->ipython-autotime) (1.0.18)\n",
            "Requirement already satisfied: wcwidth in /usr/local/lib/python3.7/dist-packages (from prompt-toolkit<2.0.0,>=1.0.4->ipython->ipython-autotime) (0.2.5)\n",
            "Requirement already satisfied: six>=1.9.0 in /usr/local/lib/python3.7/dist-packages (from prompt-toolkit<2.0.0,>=1.0.4->ipython->ipython-autotime) (1.15.0)\n",
            "Requirement already satisfied: ipython-genutils in /usr/local/lib/python3.7/dist-packages (from traitlets>=4.2->ipython->ipython-autotime) (0.2.0)\n",
            "Requirement already satisfied: ptyprocess>=0.5 in /usr/local/lib/python3.7/dist-packages (from pexpect->ipython->ipython-autotime) (0.7.0)\n",
            "The autotime extension is already loaded. To reload it, use:\n",
            "  %reload_ext autotime\n",
            "time: 2.36 s (started: 2021-07-27 15:58:38 +00:00)\n"
          ],
          "name": "stdout"
        }
      ]
    },
    {
      "cell_type": "code",
      "metadata": {
        "id": "gSW4SBNiKNjK"
      },
      "source": [
        "# aktifkan library yang dibutuhkan\n",
        "import tensorflow as tf\n",
        "import tensorflow.keras.backend as K\n",
        "from tensorflow.keras import layers\n",
        "from tensorflow.keras import layers, Model\n",
        "from tensorflow.keras.layers.experimental.preprocessing import TextVectorization\n",
        "\n",
        "import os\n",
        "import re\n",
        "import string\n",
        "import numpy as np\n",
        "import matplotlib.pyplot as plt\n",
        "import matplotlib.patches as mpatches"
      ],
      "execution_count": null,
      "outputs": []
    },
    {
      "cell_type": "code",
      "metadata": {
        "colab": {
          "base_uri": "https://localhost:8080/"
        },
        "id": "-Zi-cvP5p0Pc",
        "outputId": "a0915abd-d7f0-40d0-86f8-e71e10e6fc45"
      },
      "source": [
        "# Koneksi ke Google Drive untuk penyimpanan file\n",
        "from google.colab import drive\n",
        "drive.mount('/content/drive')"
      ],
      "execution_count": null,
      "outputs": [
        {
          "output_type": "stream",
          "text": [
            "Drive already mounted at /content/drive; to attempt to forcibly remount, call drive.mount(\"/content/drive\", force_remount=True).\n",
            "time: 3.38 ms (started: 2021-07-27 15:58:41 +00:00)\n"
          ],
          "name": "stdout"
        }
      ]
    },
    {
      "cell_type": "code",
      "metadata": {
        "colab": {
          "base_uri": "https://localhost:8080/"
        },
        "id": "QXMBvbPA56lt",
        "outputId": "da3065d2-cb6c-4b14-e748-79da3981549a"
      },
      "source": [
        "# pindah direktori ke folder utama\n",
        "%cd '/content/drive/My Drive/Colab Notebooks'"
      ],
      "execution_count": null,
      "outputs": [
        {
          "output_type": "stream",
          "text": [
            "/content/drive/My Drive/Colab Notebooks\n",
            "time: 3.55 ms (started: 2021-07-27 15:58:41 +00:00)\n"
          ],
          "name": "stdout"
        }
      ]
    },
    {
      "cell_type": "code",
      "metadata": {
        "colab": {
          "base_uri": "https://localhost:8080/"
        },
        "id": "zaN7TW_uKnan",
        "outputId": "45e59795-4d0b-4098-b4c2-14c26730ef1b"
      },
      "source": [
        "# mengunduh dataset yang telah disimpan sebelumnya\n",
        "!curl -O http://alfianhid.000webhostapp.com/dataset_fix.txt"
      ],
      "execution_count": null,
      "outputs": [
        {
          "output_type": "stream",
          "text": [
            "  % Total    % Received % Xferd  Average Speed   Time    Time     Time  Current\n",
            "                                 Dload  Upload   Total   Spent    Left  Speed\n",
            "100  940k  100  940k    0     0  1000k      0 --:--:-- --:--:-- --:--:--  999k\n",
            "time: 1.05 s (started: 2021-07-27 15:58:41 +00:00)\n"
          ],
          "name": "stdout"
        }
      ]
    },
    {
      "cell_type": "code",
      "metadata": {
        "colab": {
          "base_uri": "https://localhost:8080/"
        },
        "id": "fTbmeG0AK2Bd",
        "outputId": "05e38654-a9e4-4f47-a91e-c402568a163a"
      },
      "source": [
        "# mengubah dataset TXT menjadi format dataset tensor\n",
        "raw_data_ds = tf.data.TextLineDataset([\"dataset_fix.txt\"])"
      ],
      "execution_count": null,
      "outputs": [
        {
          "output_type": "stream",
          "text": [
            "time: 14.6 ms (started: 2021-07-27 15:58:42 +00:00)\n"
          ],
          "name": "stdout"
        }
      ]
    },
    {
      "cell_type": "code",
      "metadata": {
        "colab": {
          "base_uri": "https://localhost:8080/"
        },
        "id": "OjG06bfK4r5W",
        "outputId": "86eaf0d0-6f36-4f15-93ce-50132df47008"
      },
      "source": [
        "# menampilkan 10 baris data pertama\n",
        "for elems in raw_data_ds.take(10):\n",
        "    print(elems.numpy())"
      ],
      "execution_count": null,
      "outputs": [
        {
          "output_type": "stream",
          "text": [
            "b'makanan bali di jogja makan malam di hari minggu ini yang enak enak dulu gaes tapi ini non halal ya gaes yang gak berkenan skip aja hehehe nah ini makannya di bu kadek khas bali yang ada di selokan mataram bagian kalasan sleman disini pesen menu sekaligus nasi campur spesial sate dan sate lilit harganya terjangkau kok gaes semuanya nasi campur spesialnya mantap dapet nasi trancam rica kecap sate lawar serta kuah sup rasanya bikin nagih nggak cukup porsi hahaha sate lilit nya gede gede seporsi dapat tusuk bisa buat lauk ataupun digadoin rasanya manis gurih dan bikin nagih juga muantap sate nya request pedes bumbunya meresap ke dalam dagingnya pedesnya masih enak nggak terlalu pedes overall semuanya recommended untuk dicoba menu di bukadekkhasbali bu kadek khas bali jl selokan mataram kadirojo purwomartani kalasan sleman diy selasa minggu '\n",
            "b'makan emik dirumah bisa mau makan pas ppkm gini susah kalian bisa ke id gaes yang ada di condongcatur disini sudah support program ppkm dari pemerintah kalian bisa pesen macam varian mie disini ada yang manis pedas manis asin dan asin pedas nggak cuma mie tapi ada pangsit goreng pangsit rebus sampai kulit goreng juga ada cusss order id sekarang juga rp emik homemade noodles jl anggajaya sanggrahan condongcatur depok sleman diy jumat tutup '\n",
            "b'lumpia samijaya ke jogja wajib banget cobain lumpia yang satu ini gaes namanya lumpia samijaya hits banget di malioboro tapi kalo ke pusat yang di malioboro biasanya antri panjang mendingan ke cabangnya di jalan mataram gaes lebih sepi dan bisa dine in pilihannya ada lumpia lumpia ayam dan lumpia spesial harganya murah kok gaes cuma dan rupiah per bijinya paling enak makan di tempat karna digoreng masih anget jadinya yang doyan lumpia wajib banget mampir kesini rp lumpia ayam rp lumpia spesial lumpia samijaya jlmataram no suryatmajan danurejan kota yogyakarta diy sebelah sop ayam pak min '\n",
            "b'makan mie pedas di mie nyinyir kalian suka makan mie dan rasa pedes ke jog aja gaes disini kalian bisa makan mie dengan level pedas sampai cabe lho bakal bikin nyinyir beneran deh mienya lembut empuk ada yang asin gurih dan manis gurih selain mie pedes kalian bisa cobain juga siomay nyinyirnya gaes pake cabe pedes juga mantul rasanya buat kalian yang pengguna aplikasi tik tok jangan lupa follow akunnya jog juga ya mulai rp mie nyinyir jogja jl babarsari jl sorogenen nitikan jl godean km jl patangpuluhan jl dr wahidin sudiro husodo bantul '\n",
            "b'topokki time buka cabang lagi wuihhh topokki time sekarang buka store baru lagi wonocatur lho seru banget kan yuk buat kamu yang udah kepo sama rasa makanan korea dari topokki time bisa langsung datang ke store baru kita di jl wonocatur no banguntapan bantul diy psssttt kamu juga bisa mendapatkan potongan harga sebesar lho syarat ketentuannya follow akun media sosial time buat insta story dan tag teman kamu subscribe youtube topokki time periode ini berlaku untuk tanggal juni berlaku kelipatan berlaku pembelian take away cus berangkat ke store topokki time hari ini dan besok '\n",
            "b'bakmi ningrat cuma rupiah wagelaseh makan keraton ada promo terbaru gaes cuma bayar rupiah untuk menu terbaru mereka yaitu bakmi ningrat jadi setelah ada bakmi keraton dan bakmi kayangan mereka keluarin menu baru namanya bakmi ningrat yang citarasanya asin gurih dan bisa request pedesnya promonya cuma berlaku sampai juni aja ya gaes jadi buruan ke keraton yang ada di pusat maupun cabang terbaru di jalan wonosari km rp selama promo bakmi keraton jl ngadinegaran blok mj iii no mantrijeron diy jl wonosari km banguntapan bantul diy '\n",
            "b'makanan korea enak makan malam kali ini ala ala korea gaes tepatnya aku makan di bunju cafe mart yang ada di daerah demangan aku pesen menu sekaligus ada tteokbokki bomb bulgogi bokkeumbab ramyeon dan fried mandu tteokbokki nya authentic korean rasanya gaes sausnya itu gochujang banget ada pedasnya sedikit bomb bulgogi bokkeumbab nya itu nasi dengan beef slice bulogi yang dibungkus nori enak banget sih itu ramyeonnya nggak terlalu banyak kuahnya kaya nyemek tapi tekstur mienya masih kerasa dan fried mandunya enak juga gaes yang doyan korean food bisa cobain makan disini rp tteokbokki rp bomb bulgogi rp ramyeon rp fried mandu bunju cafe mart jl cendrawasih nob mrican demangan depok sleman daerah istimewa yogyakarta '\n",
            "b'pempek murah enak siang siang jajan pempek dulu gaes tepatnya di pempek yang ada di samping indomaret jalan damai harganya cuma per satuan beli ribu dapet segini banyak kayanya sih ini pempek mm yang pernah aku makan gaes karna rasanya mirip banget cukonya itu pedes manis enak nendang rasanya pempeknya juga kenyal pas cocok banget disantap pas masih hangat penyuka pempek jangan lupa cobain beli disini rp pempek pempek samping indomaret jl damai no wonorejo sariharjo ngaglik sleman diy jam ngidam pempek '\n",
            "b'hujan hujan melipir nongkrong dulu di langsung pesen menu sekaligus ada pizza pepperoni calamari ring dan gelato dengan dua rasa pizzanya punya pinggiran yang tipis dan renyah dengan topping daging dan keju mozzarella yang melted calamari ringnya gede gede dibalur dengan tepung roti yang membuatnya punya tekstur renyah diluar kenyal didalam dengan saus cocolan mayonaise yang nikmat gelatonya rasa aku pilih tiramisu dan strawberry rasanya nendang gak cepet meleleh dan porsinya itu gede banget cocok jadi dessert yang memuaskan yang suka nongkrong cocok banget kesini rp pizza rp calamari ring rp gelato punika deli lobby area royal ambarrukmo yogyakarta '\n",
            "b'warga prawiro kuat sekarang gak usah jauhjauh lagi buat beli makanan khas korea topokki time hari ini spesial hadir di kotamu jadi buat kamu yang lagi pengen banget makan makanan khas korea sambil nonton drakor pas banget nih mulai hari ini topokki time hadir di prawirokuat lho deket banget dengan kampus fe uii yuk kunjungi opening store kita dan dapatkan potongan harga sekarang juga see you guys diskon topokki time jl prawiro kuat ngringin condongcatur depok sleman diy juni '\n",
            "time: 21.1 ms (started: 2021-07-27 15:58:42 +00:00)\n"
          ],
          "name": "stdout"
        }
      ]
    },
    {
      "cell_type": "code",
      "metadata": {
        "colab": {
          "base_uri": "https://localhost:8080/"
        },
        "id": "yaQfJ6jMbZAQ",
        "outputId": "75f188b5-cf57-4116-8b0b-3a77ef713e4a"
      },
      "source": [
        "# melakukan tokenisasi: memotong kalimat menjadi bentuk token-token kata\n",
        "raw_data_ds= raw_data_ds.map(lambda x: tf.strings.split(x))\n",
        "\n",
        "# menampilkan token-token kata pada kalimat baris ke-1\n",
        "for elems in raw_data_ds.take(1):\n",
        "    print(elems.numpy())"
      ],
      "execution_count": null,
      "outputs": [
        {
          "output_type": "stream",
          "text": [
            "[b'makanan' b'bali' b'di' b'jogja' b'makan' b'malam' b'di' b'hari'\n",
            " b'minggu' b'ini' b'yang' b'enak' b'enak' b'dulu' b'gaes' b'tapi' b'ini'\n",
            " b'non' b'halal' b'ya' b'gaes' b'yang' b'gak' b'berkenan' b'skip' b'aja'\n",
            " b'hehehe' b'nah' b'ini' b'makannya' b'di' b'bu' b'kadek' b'khas' b'bali'\n",
            " b'yang' b'ada' b'di' b'selokan' b'mataram' b'bagian' b'kalasan' b'sleman'\n",
            " b'disini' b'pesen' b'menu' b'sekaligus' b'nasi' b'campur' b'spesial'\n",
            " b'sate' b'dan' b'sate' b'lilit' b'harganya' b'terjangkau' b'kok' b'gaes'\n",
            " b'semuanya' b'nasi' b'campur' b'spesialnya' b'mantap' b'dapet' b'nasi'\n",
            " b'trancam' b'rica' b'kecap' b'sate' b'lawar' b'serta' b'kuah' b'sup'\n",
            " b'rasanya' b'bikin' b'nagih' b'nggak' b'cukup' b'porsi' b'hahaha' b'sate'\n",
            " b'lilit' b'nya' b'gede' b'gede' b'seporsi' b'dapat' b'tusuk' b'bisa'\n",
            " b'buat' b'lauk' b'ataupun' b'digadoin' b'rasanya' b'manis' b'gurih'\n",
            " b'dan' b'bikin' b'nagih' b'juga' b'muantap' b'sate' b'nya' b'request'\n",
            " b'pedes' b'bumbunya' b'meresap' b'ke' b'dalam' b'dagingnya' b'pedesnya'\n",
            " b'masih' b'enak' b'nggak' b'terlalu' b'pedes' b'overall' b'semuanya'\n",
            " b'recommended' b'untuk' b'dicoba' b'menu' b'di' b'bukadekkhasbali' b'bu'\n",
            " b'kadek' b'khas' b'bali' b'jl' b'selokan' b'mataram' b'kadirojo'\n",
            " b'purwomartani' b'kalasan' b'sleman' b'diy' b'selasa' b'minggu']\n",
            "time: 74.3 ms (started: 2021-07-27 15:58:42 +00:00)\n"
          ],
          "name": "stdout"
        }
      ]
    },
    {
      "cell_type": "code",
      "metadata": {
        "colab": {
          "base_uri": "https://localhost:8080/"
        },
        "id": "9rOWjBQasLCf",
        "outputId": "d2e89aa4-9d30-4f28-fccb-cfc5b4003eae"
      },
      "source": [
        "# melakukan proses flattening agar urutan kalimat per baris tetap sama sampai proses akhir\n",
        "raw_data_ds=raw_data_ds.flat_map(lambda x: tf.data.Dataset.from_tensor_slices(x))\n",
        "\n",
        "# menampilkan 10 token kata pertama\n",
        "for elems in raw_data_ds.take(10):\n",
        "    print(elems.numpy())"
      ],
      "execution_count": null,
      "outputs": [
        {
          "output_type": "stream",
          "text": [
            "b'makanan'\n",
            "b'bali'\n",
            "b'di'\n",
            "b'jogja'\n",
            "b'makan'\n",
            "b'malam'\n",
            "b'di'\n",
            "b'hari'\n",
            "b'minggu'\n",
            "b'ini'\n",
            "time: 39.2 ms (started: 2021-07-27 15:58:42 +00:00)\n"
          ],
          "name": "stdout"
        }
      ]
    },
    {
      "cell_type": "code",
      "metadata": {
        "colab": {
          "base_uri": "https://localhost:8080/"
        },
        "id": "fFx98gNOsdVf",
        "outputId": "05b17e33-2535-4b58-deaa-e7732f824df0"
      },
      "source": [
        "# menampilkan kosa kata dari dataset\n",
        "print(\"Jumlah keseluruhan kata (kosa kata): \",len(set(raw_data_ds.as_numpy_iterator())))"
      ],
      "execution_count": null,
      "outputs": [
        {
          "output_type": "stream",
          "text": [
            "Jumlah keseluruhan kata (kosa kata):  12915\n",
            "time: 9.7 s (started: 2021-07-27 15:58:42 +00:00)\n"
          ],
          "name": "stdout"
        }
      ]
    },
    {
      "cell_type": "code",
      "metadata": {
        "id": "debKsVQ1IFd9",
        "colab": {
          "base_uri": "https://localhost:8080/"
        },
        "outputId": "26deb7bb-9f69-468f-ccde-a4797111ccc8"
      },
      "source": [
        "# atur jumlah input yang akan dimasukkan ke dimensional layer\n",
        "input_sequence_size = 4"
      ],
      "execution_count": null,
      "outputs": [
        {
          "output_type": "stream",
          "text": [
            "time: 1.12 ms (started: 2021-07-27 15:58:52 +00:00)\n"
          ],
          "name": "stdout"
        }
      ]
    },
    {
      "cell_type": "code",
      "metadata": {
        "id": "FkQ9-wyuyVaz",
        "colab": {
          "base_uri": "https://localhost:8080/"
        },
        "outputId": "8c7ea837-ccd9-47a8-ebe2-89c3dc6ee539"
      },
      "source": [
        "# membuat proses windowing frasa (5 kata input + 1 kata output)\n",
        "sequence_data_ds = raw_data_ds.window(input_sequence_size+1, drop_remainder=True)\n",
        "\n",
        "# menampilkan 3 contoh hasil windowing frasa\n",
        "for window in sequence_data_ds.take(3):\n",
        "  print(list(window.as_numpy_iterator()))"
      ],
      "execution_count": null,
      "outputs": [
        {
          "output_type": "stream",
          "text": [
            "[b'makanan', b'bali', b'di', b'jogja', b'makan']\n",
            "[b'malam', b'di', b'hari', b'minggu', b'ini']\n",
            "[b'yang', b'enak', b'enak', b'dulu', b'gaes']\n",
            "time: 45.9 ms (started: 2021-07-27 15:58:52 +00:00)\n"
          ],
          "name": "stdout"
        }
      ]
    },
    {
      "cell_type": "code",
      "metadata": {
        "id": "5o7L6RliWAYU",
        "colab": {
          "base_uri": "https://localhost:8080/"
        },
        "outputId": "4bf04525-2187-461a-c68c-b6e848b2e9b7"
      },
      "source": [
        "# menampilkan ukuran shape window dan tipe datanya\n",
        "print(window) # ternyata shapenya masih kosong, maka dari itu harus diperbaiki"
      ],
      "execution_count": null,
      "outputs": [
        {
          "output_type": "stream",
          "text": [
            "<_VariantDataset shapes: (), types: tf.string>\n",
            "time: 789 µs (started: 2021-07-27 15:58:52 +00:00)\n"
          ],
          "name": "stdout"
        }
      ]
    },
    {
      "cell_type": "code",
      "metadata": {
        "id": "sxi5Wg9EJsFe",
        "colab": {
          "base_uri": "https://localhost:8080/"
        },
        "outputId": "36a308e0-1f93-4229-d30d-ba0af53d2141"
      },
      "source": [
        "# memperbaiki ukuran shape dari dataset windowing frasa\n",
        "sequence_data_ds = sequence_data_ds.flat_map(lambda window: window.batch(5))\n",
        "\n",
        "# menampilkan 3 contoh hasil windowing frasa beserta ukuran shapenya (4+1 = 5)\n",
        "for elem in sequence_data_ds.take(3):\n",
        "  print(elem)"
      ],
      "execution_count": null,
      "outputs": [
        {
          "output_type": "stream",
          "text": [
            "tf.Tensor([b'makanan' b'bali' b'di' b'jogja' b'makan'], shape=(5,), dtype=string)\n",
            "tf.Tensor([b'malam' b'di' b'hari' b'minggu' b'ini'], shape=(5,), dtype=string)\n",
            "tf.Tensor([b'yang' b'enak' b'enak' b'dulu' b'gaes'], shape=(5,), dtype=string)\n",
            "time: 43.3 ms (started: 2021-07-27 15:58:52 +00:00)\n"
          ],
          "name": "stdout"
        }
      ]
    },
    {
      "cell_type": "code",
      "metadata": {
        "id": "3H7Egrpv0KwA",
        "colab": {
          "base_uri": "https://localhost:8080/"
        },
        "outputId": "28fab9a4-2628-444c-f8ca-7b06037267bf"
      },
      "source": [
        "# split/membagi dataset menjadi x (input) dan y (output)\n",
        "sequence_data_ds = sequence_data_ds.map(lambda window: (window[:-1], window[-1:]))\n",
        "X_train_ds_raw = sequence_data_ds.map(lambda X,y: X)\n",
        "y_train_ds_raw = sequence_data_ds.map(lambda X,y: y)"
      ],
      "execution_count": null,
      "outputs": [
        {
          "output_type": "stream",
          "text": [
            "time: 20.5 ms (started: 2021-07-27 15:58:52 +00:00)\n"
          ],
          "name": "stdout"
        }
      ]
    },
    {
      "cell_type": "code",
      "metadata": {
        "id": "rH-dIu3xMVp5",
        "colab": {
          "base_uri": "https://localhost:8080/"
        },
        "outputId": "68f2cf26-c97a-4a80-8bea-86c6baf01e58"
      },
      "source": [
        "# mencoba melihat hasil proses windowing frasa secara lebih detail\n",
        "print(\"Input berupa token kata \\t\\t    ----->\\t Output berupa prediksi kata\")\n",
        "for elem1, elem2 in zip(X_train_ds_raw.take(3),y_train_ds_raw.take(3)):\n",
        "   print(elem1.numpy(),\"\\t\\t----->\\t\", elem2.numpy())"
      ],
      "execution_count": null,
      "outputs": [
        {
          "output_type": "stream",
          "text": [
            "Input berupa token kata \t\t    ----->\t Output berupa prediksi kata\n",
            "[b'makanan' b'bali' b'di' b'jogja'] \t\t----->\t [b'makan']\n",
            "[b'malam' b'di' b'hari' b'minggu'] \t\t----->\t [b'ini']\n",
            "[b'yang' b'enak' b'enak' b'dulu'] \t\t----->\t [b'gaes']\n",
            "time: 79.6 ms (started: 2021-07-27 15:58:52 +00:00)\n"
          ],
          "name": "stdout"
        }
      ]
    },
    {
      "cell_type": "code",
      "metadata": {
        "id": "2_0ocnyf7oCh",
        "colab": {
          "base_uri": "https://localhost:8080/"
        },
        "outputId": "78d322cf-41f7-4c18-a6e4-48e9cbe38c97"
      },
      "source": [
        "# membuat fungsi konversi dataset yang awalnya berisi token-token menjadi string vector (satu frasa/kalimat utuh)\n",
        "def convert_string(X: tf.Tensor):\n",
        "  str1 = \"\"  \n",
        "  for ele in X:\n",
        "    str1 += ele.numpy().decode(\"utf-8\")+\" \"\n",
        "  str1= tf.convert_to_tensor(str1[:-1])\n",
        "  return str1"
      ],
      "execution_count": null,
      "outputs": [
        {
          "output_type": "stream",
          "text": [
            "time: 3.35 ms (started: 2021-07-27 15:58:52 +00:00)\n"
          ],
          "name": "stdout"
        }
      ]
    },
    {
      "cell_type": "code",
      "metadata": {
        "id": "fiGMyLNy5e_A",
        "colab": {
          "base_uri": "https://localhost:8080/"
        },
        "outputId": "35e44fc7-7630-4c50-d02d-6b13ce0cfb7c"
      },
      "source": [
        "# menerapkan fungsi konversi dataset\n",
        "X_train_ds_raw = X_train_ds_raw.map(lambda x: tf.py_function(func=convert_string,\n",
        "          inp=[x], Tout=tf.string))"
      ],
      "execution_count": null,
      "outputs": [
        {
          "output_type": "stream",
          "text": [
            "time: 7.98 ms (started: 2021-07-27 15:58:52 +00:00)\n"
          ],
          "name": "stdout"
        }
      ]
    },
    {
      "cell_type": "code",
      "metadata": {
        "id": "0rpjk4WtAdbT",
        "colab": {
          "base_uri": "https://localhost:8080/"
        },
        "outputId": "3d0308ee-2586-4384-ec39-e5e05bb30fa2"
      },
      "source": [
        "# mencoba melihat hasil proses windowing frasa secara lebih detail\n",
        "print(\"Input berupa string vector \\t\\t    ----->\\t Output berupa prediksi kata\")\n",
        "for elem1, elem2 in zip(X_train_ds_raw.take(3),y_train_ds_raw.take(3)):\n",
        "   print(elem1.numpy(),\"\\t\\t----->\\t\", elem2.numpy())"
      ],
      "execution_count": null,
      "outputs": [
        {
          "output_type": "stream",
          "text": [
            "Input berupa string vector \t\t    ----->\t Output berupa prediksi kata\n",
            "b'makanan bali di jogja' \t\t----->\t [b'makan']\n",
            "b'malam di hari minggu' \t\t----->\t [b'ini']\n",
            "b'yang enak enak dulu' \t\t----->\t [b'gaes']\n",
            "time: 87.8 ms (started: 2021-07-27 15:58:52 +00:00)\n"
          ],
          "name": "stdout"
        }
      ]
    },
    {
      "cell_type": "code",
      "metadata": {
        "id": "ahbO-aSDQaHp",
        "colab": {
          "base_uri": "https://localhost:8080/"
        },
        "outputId": "bd40421e-4381-4a06-83c6-d673d499a009"
      },
      "source": [
        "# mencoba melihat ukuran awal dari X (data input)\n",
        "print(X_train_ds_raw.element_spec, y_train_ds_raw.element_spec) # ternyata masih unknown, perlu diperbaiki"
      ],
      "execution_count": null,
      "outputs": [
        {
          "output_type": "stream",
          "text": [
            "TensorSpec(shape=<unknown>, dtype=tf.string, name=None) TensorSpec(shape=(None,), dtype=tf.string, name=None)\n",
            "time: 789 µs (started: 2021-07-27 15:58:52 +00:00)\n"
          ],
          "name": "stdout"
        }
      ]
    },
    {
      "cell_type": "code",
      "metadata": {
        "id": "_2JQLboFDsYf",
        "colab": {
          "base_uri": "https://localhost:8080/"
        },
        "outputId": "cd8bb7f4-0c21-4344-9324-ef81810fd85f"
      },
      "source": [
        "# menerapkan proses perbaikan (reshape ke bentuk 2D)\n",
        "X_train_ds_raw = X_train_ds_raw.map(lambda x: tf.reshape(x,[1]))"
      ],
      "execution_count": null,
      "outputs": [
        {
          "output_type": "stream",
          "text": [
            "time: 8.3 ms (started: 2021-07-27 15:58:52 +00:00)\n"
          ],
          "name": "stdout"
        }
      ]
    },
    {
      "cell_type": "code",
      "metadata": {
        "id": "2XezCGHtM12t",
        "colab": {
          "base_uri": "https://localhost:8080/"
        },
        "outputId": "3cf2b030-3652-4e31-b128-839f8ffc1350"
      },
      "source": [
        "X_train_ds_raw.element_spec, y_train_ds_raw.element_spec # oke, sudah benar"
      ],
      "execution_count": null,
      "outputs": [
        {
          "output_type": "execute_result",
          "data": {
            "text/plain": [
              "(TensorSpec(shape=(1,), dtype=tf.string, name=None),\n",
              " TensorSpec(shape=(None,), dtype=tf.string, name=None))"
            ]
          },
          "metadata": {
            "tags": []
          },
          "execution_count": 75
        },
        {
          "output_type": "stream",
          "text": [
            "time: 5.58 ms (started: 2021-07-27 15:58:52 +00:00)\n"
          ],
          "name": "stdout"
        }
      ]
    },
    {
      "cell_type": "code",
      "metadata": {
        "id": "0olhhwkmHpWA",
        "colab": {
          "base_uri": "https://localhost:8080/"
        },
        "outputId": "153198b4-e8ca-476c-a5ce-c6e1d0001bd5"
      },
      "source": [
        "# mengatur parameter proses vektorisasi (mengubah teks menjadi angka)\n",
        "max_features = 10000                             # jumlah kosa kata untuk dijadikan fitur\n",
        "sequence_length = input_sequence_size            # jumlah input kata = 4\n",
        "batch_size = 32                                  # ukuran Batch "
      ],
      "execution_count": null,
      "outputs": [
        {
          "output_type": "stream",
          "text": [
            "time: 1.34 ms (started: 2021-07-27 16:51:49 +00:00)\n"
          ],
          "name": "stdout"
        }
      ]
    },
    {
      "cell_type": "code",
      "metadata": {
        "id": "wbaD2D2g9Um0",
        "colab": {
          "base_uri": "https://localhost:8080/"
        },
        "outputId": "f5e21483-b937-4af2-feb2-44a3bb2898e7"
      },
      "source": [
        "# membuat layer vektorisasi teks\n",
        "vectorize_layer = TextVectorization(\n",
        "    max_tokens = max_features,\n",
        "    output_mode = \"int\",\n",
        "    output_sequence_length = sequence_length,\n",
        ")"
      ],
      "execution_count": null,
      "outputs": [
        {
          "output_type": "stream",
          "text": [
            "time: 10.7 ms (started: 2021-07-27 16:51:50 +00:00)\n"
          ],
          "name": "stdout"
        }
      ]
    },
    {
      "cell_type": "code",
      "metadata": {
        "id": "MBADpXSI5CEo",
        "colab": {
          "base_uri": "https://localhost:8080/"
        },
        "outputId": "4cf0673e-6bd7-46bc-dce4-907015d38fa3"
      },
      "source": [
        "# menerapkan fitur \"adapt\" agar kosa kata memiliki index/urutan nomor\n",
        "vectorize_layer.adapt(raw_data_ds.batch(batch_size))"
      ],
      "execution_count": null,
      "outputs": [
        {
          "output_type": "stream",
          "text": [
            "time: 2.82 s (started: 2021-07-27 16:51:50 +00:00)\n"
          ],
          "name": "stdout"
        }
      ]
    },
    {
      "cell_type": "code",
      "metadata": {
        "id": "IpjeAUQP_4R5",
        "colab": {
          "base_uri": "https://localhost:8080/"
        },
        "outputId": "f1f5a04d-3556-499d-f003-27988b284b41"
      },
      "source": [
        "# menghitung jumlah kata\n",
        "print(\"Jumlah keseluruhan kata (max fitur): \", len(vectorize_layer.get_vocabulary()))"
      ],
      "execution_count": null,
      "outputs": [
        {
          "output_type": "stream",
          "text": [
            "Jumlah keseluruhan kata (max fitur):  10000\n",
            "time: 20.2 ms (started: 2021-07-27 16:51:53 +00:00)\n"
          ],
          "name": "stdout"
        }
      ]
    },
    {
      "cell_type": "code",
      "metadata": {
        "id": "c4skkz3cRt9L",
        "colab": {
          "base_uri": "https://localhost:8080/"
        },
        "outputId": "46a926df-4d31-4cc5-decb-be2d37b397e8"
      },
      "source": [
        "print(\"Menampilkan index 10 kata pertama: \", vectorize_layer.get_vocabulary()[:10])"
      ],
      "execution_count": null,
      "outputs": [
        {
          "output_type": "stream",
          "text": [
            "Menampilkan index 10 kata pertama:  ['', '[UNK]', 'dan', 'di', 'ada', 'yang', 'banget', 'ini', 'kalian', 'yg']\n",
            "time: 18.1 ms (started: 2021-07-27 16:51:53 +00:00)\n"
          ],
          "name": "stdout"
        }
      ]
    },
    {
      "cell_type": "code",
      "metadata": {
        "id": "5EzlUbQKQDE9",
        "colab": {
          "base_uri": "https://localhost:8080/",
          "height": 35
        },
        "outputId": "b3df2ad0-5bae-4c50-f613-11baa4c89d74"
      },
      "source": [
        "# mencoba menampilkan kata per index\n",
        "vectorize_layer.get_vocabulary()[3]"
      ],
      "execution_count": null,
      "outputs": [
        {
          "output_type": "execute_result",
          "data": {
            "application/vnd.google.colaboratory.intrinsic+json": {
              "type": "string"
            },
            "text/plain": [
              "'di'"
            ]
          },
          "metadata": {
            "tags": []
          },
          "execution_count": 222
        },
        {
          "output_type": "stream",
          "text": [
            "time: 19.4 ms (started: 2021-07-27 16:51:53 +00:00)\n"
          ],
          "name": "stdout"
        }
      ]
    },
    {
      "cell_type": "code",
      "metadata": {
        "id": "-EHkAlit9vkD",
        "colab": {
          "base_uri": "https://localhost:8080/"
        },
        "outputId": "e2ddd551-dc1e-4f01-816a-e747401fcebe"
      },
      "source": [
        "# membuat fungsi vektorisasi teks\n",
        "def vectorize_text(text):\n",
        "  text = tf.expand_dims(text, -1)\n",
        "  return tf.squeeze(vectorize_layer(text))"
      ],
      "execution_count": null,
      "outputs": [
        {
          "output_type": "stream",
          "text": [
            "time: 1.88 ms (started: 2021-07-27 16:51:53 +00:00)\n"
          ],
          "name": "stdout"
        }
      ]
    },
    {
      "cell_type": "code",
      "metadata": {
        "id": "VHd9R6m24OMI",
        "colab": {
          "base_uri": "https://localhost:8080/"
        },
        "outputId": "3643502c-5b7d-47f6-d850-9f4e08760bbc"
      },
      "source": [
        "# menampilkan 3 hasil windowing frasa pertama\n",
        "for elem in X_train_ds_raw.take(3):\n",
        "  print(\"X: \",elem.numpy())"
      ],
      "execution_count": null,
      "outputs": [
        {
          "output_type": "stream",
          "text": [
            "X:  [b'makanan bali di jogja']\n",
            "X:  [b'malam di hari minggu']\n",
            "X:  [b'yang enak enak dulu']\n",
            "time: 76.3 ms (started: 2021-07-27 16:51:53 +00:00)\n"
          ],
          "name": "stdout"
        }
      ]
    },
    {
      "cell_type": "code",
      "metadata": {
        "id": "qelaS3UgBijo",
        "colab": {
          "base_uri": "https://localhost:8080/"
        },
        "outputId": "aec9a316-be0f-401f-903d-498fe3f2a586"
      },
      "source": [
        "# menerapkan fungsi vektorisasi teks\n",
        "X_train_ds = X_train_ds_raw.map(vectorize_text)\n",
        "y_train_ds = y_train_ds_raw.map(vectorize_text)"
      ],
      "execution_count": null,
      "outputs": [
        {
          "output_type": "stream",
          "text": [
            "time: 96.3 ms (started: 2021-07-27 16:51:53 +00:00)\n"
          ],
          "name": "stdout"
        }
      ]
    },
    {
      "cell_type": "code",
      "metadata": {
        "id": "K-kxKJbK37dV",
        "colab": {
          "base_uri": "https://localhost:8080/"
        },
        "outputId": "0c1af9ca-9b9c-47a4-e355-14b095021e3d"
      },
      "source": [
        "# menampilkan 3 hasil windowing frasa pertama (setelah dilakukan vektorisasi teks)\n",
        "for elem in X_train_ds.take(3):\n",
        "  print(\"X: \",elem.numpy())"
      ],
      "execution_count": null,
      "outputs": [
        {
          "output_type": "stream",
          "text": [
            "X:  [119 802   3  23]\n",
            "X:  [173   3  91 265]\n",
            "X:  [  5  13  13 231]\n",
            "time: 83.6 ms (started: 2021-07-27 16:51:53 +00:00)\n"
          ],
          "name": "stdout"
        }
      ]
    },
    {
      "cell_type": "code",
      "metadata": {
        "id": "P5vY1tx7JG7r",
        "colab": {
          "base_uri": "https://localhost:8080/"
        },
        "outputId": "868ab4a8-a819-4d50-a879-9be6154b643b"
      },
      "source": [
        "# menampilkan shape\n",
        "X_train_ds_raw.element_spec, y_train_ds_raw.element_spec"
      ],
      "execution_count": null,
      "outputs": [
        {
          "output_type": "execute_result",
          "data": {
            "text/plain": [
              "(TensorSpec(shape=(1,), dtype=tf.string, name=None),\n",
              " TensorSpec(shape=(None,), dtype=tf.string, name=None))"
            ]
          },
          "metadata": {
            "tags": []
          },
          "execution_count": 227
        },
        {
          "output_type": "stream",
          "text": [
            "time: 5.22 ms (started: 2021-07-27 16:51:53 +00:00)\n"
          ],
          "name": "stdout"
        }
      ]
    },
    {
      "cell_type": "code",
      "metadata": {
        "id": "wadZTc-VWykP",
        "colab": {
          "base_uri": "https://localhost:8080/"
        },
        "outputId": "7b9f4995-85b4-40e5-81e6-df709a66db57"
      },
      "source": [
        "# saat kita coba memprediksi kata selanjutnya,\n",
        "# ternyata output jumlah kata melebihi yang seharusnya\n",
        "# oleh karena itu, perlu diperbaiki\n",
        "for elem in y_train_ds.take(1):\n",
        "  print(\"shape: \", elem.shape, \"\\n Index token kata selanjutnya: \",elem.numpy())"
      ],
      "execution_count": null,
      "outputs": [
        {
          "output_type": "stream",
          "text": [
            "shape:  (4,) \n",
            " Index token kata selanjutnya:  [15  0  0  0]\n",
            "time: 75.8 ms (started: 2021-07-27 16:51:53 +00:00)\n"
          ],
          "name": "stdout"
        }
      ]
    },
    {
      "cell_type": "code",
      "metadata": {
        "id": "Zfqc5DmR4r5t",
        "colab": {
          "base_uri": "https://localhost:8080/"
        },
        "outputId": "bd2bce61-8727-4f94-d817-c2f0a3fc2d83"
      },
      "source": [
        "# menerapkan proses perbaikan\n",
        "y_train_ds = y_train_ds.map(lambda x: x[:1])"
      ],
      "execution_count": null,
      "outputs": [
        {
          "output_type": "stream",
          "text": [
            "time: 20 ms (started: 2021-07-27 16:51:53 +00:00)\n"
          ],
          "name": "stdout"
        }
      ]
    },
    {
      "cell_type": "code",
      "metadata": {
        "id": "95FwQIDd4r5u",
        "colab": {
          "base_uri": "https://localhost:8080/"
        },
        "outputId": "585df27c-12f5-46eb-abe6-a4053e282104"
      },
      "source": [
        "# sekarang sudah benar\n",
        "for elem in y_train_ds.take(1):\n",
        "  print(\"shape: \", elem.shape, \"\\n Index token kata selanjutnya: \",elem.numpy())"
      ],
      "execution_count": null,
      "outputs": [
        {
          "output_type": "stream",
          "text": [
            "shape:  (1,) \n",
            " Index token kata selanjutnya:  [15]\n",
            "time: 73.8 ms (started: 2021-07-27 16:51:53 +00:00)\n"
          ],
          "name": "stdout"
        }
      ]
    },
    {
      "cell_type": "code",
      "metadata": {
        "id": "9-cG6d87Ocaq",
        "colab": {
          "base_uri": "https://localhost:8080/"
        },
        "outputId": "8efaa436-55a9-428a-bc30-16e327727319"
      },
      "source": [
        "# kita coba lihat dalam versi detail\n",
        "for (X,y) in zip(X_train_ds.take(5), y_train_ds.take(5)):\n",
        "  print(X.numpy(),\"-->\",y.numpy())"
      ],
      "execution_count": null,
      "outputs": [
        {
          "output_type": "stream",
          "text": [
            "[119 802   3  23] --> [15]\n",
            "[173   3  91 265] --> [7]\n",
            "[  5  13  13 231] --> [12]\n",
            "[ 50   7 521 398] --> [16]\n",
            "[12  5 59  1] --> [3705]\n",
            "time: 154 ms (started: 2021-07-27 16:51:53 +00:00)\n"
          ],
          "name": "stdout"
        }
      ]
    },
    {
      "cell_type": "code",
      "metadata": {
        "id": "ufWe5SSbAeRJ",
        "colab": {
          "base_uri": "https://localhost:8080/"
        },
        "outputId": "6b614eb1-e1c5-400c-f127-d008edbaadeb"
      },
      "source": [
        "# saat mencoba melihat shape X dan y ternyata masih unknown, perlu diperbaiki\n",
        "train_ds =  tf.data.Dataset.zip((X_train_ds,y_train_ds))\n",
        "train_ds.element_spec"
      ],
      "execution_count": null,
      "outputs": [
        {
          "output_type": "execute_result",
          "data": {
            "text/plain": [
              "(TensorSpec(shape=<unknown>, dtype=tf.int64, name=None),\n",
              " TensorSpec(shape=<unknown>, dtype=tf.int64, name=None))"
            ]
          },
          "metadata": {
            "tags": []
          },
          "execution_count": 232
        },
        {
          "output_type": "stream",
          "text": [
            "time: 15 ms (started: 2021-07-27 16:51:53 +00:00)\n"
          ],
          "name": "stdout"
        }
      ]
    },
    {
      "cell_type": "code",
      "metadata": {
        "id": "76hFcwLlHfyd",
        "colab": {
          "base_uri": "https://localhost:8080/"
        },
        "outputId": "10f07b4f-cf55-4aa3-e0c9-af6113d17604"
      },
      "source": [
        "# membuat fungsi perbaikan shape\n",
        "def _fixup_shape(X, y):\n",
        "    X.set_shape([4])\n",
        "    y.set_shape([1]) \n",
        "    return X, y"
      ],
      "execution_count": null,
      "outputs": [
        {
          "output_type": "stream",
          "text": [
            "time: 2.57 ms (started: 2021-07-27 16:51:53 +00:00)\n"
          ],
          "name": "stdout"
        }
      ]
    },
    {
      "cell_type": "code",
      "metadata": {
        "id": "yQTT7-MwG3lE",
        "colab": {
          "base_uri": "https://localhost:8080/"
        },
        "outputId": "25d7b770-9cc7-4d6b-94ee-7df16ddbe3c6"
      },
      "source": [
        "# menerapkan fungsi dan melihat hasilnya\n",
        "train_ds = train_ds.map(_fixup_shape)\n",
        "train_ds.element_spec"
      ],
      "execution_count": null,
      "outputs": [
        {
          "output_type": "execute_result",
          "data": {
            "text/plain": [
              "(TensorSpec(shape=(4,), dtype=tf.int64, name=None),\n",
              " TensorSpec(shape=(1,), dtype=tf.int64, name=None))"
            ]
          },
          "metadata": {
            "tags": []
          },
          "execution_count": 234
        },
        {
          "output_type": "stream",
          "text": [
            "time: 42.9 ms (started: 2021-07-27 16:51:53 +00:00)\n"
          ],
          "name": "stdout"
        }
      ]
    },
    {
      "cell_type": "code",
      "metadata": {
        "id": "ko1iJTlw56EJ",
        "colab": {
          "base_uri": "https://localhost:8080/"
        },
        "outputId": "fabdde23-437f-4d03-9977-7859b49819c0"
      },
      "source": [
        "# melihat shape, input, dan output secara mendetail\n",
        "for el in train_ds.take(5):\n",
        "  print(el)"
      ],
      "execution_count": null,
      "outputs": [
        {
          "output_type": "stream",
          "text": [
            "(<tf.Tensor: shape=(4,), dtype=int64, numpy=array([119, 802,   3,  23])>, <tf.Tensor: shape=(1,), dtype=int64, numpy=array([15])>)\n",
            "(<tf.Tensor: shape=(4,), dtype=int64, numpy=array([173,   3,  91, 265])>, <tf.Tensor: shape=(1,), dtype=int64, numpy=array([7])>)\n",
            "(<tf.Tensor: shape=(4,), dtype=int64, numpy=array([  5,  13,  13, 231])>, <tf.Tensor: shape=(1,), dtype=int64, numpy=array([12])>)\n",
            "(<tf.Tensor: shape=(4,), dtype=int64, numpy=array([ 50,   7, 521, 398])>, <tf.Tensor: shape=(1,), dtype=int64, numpy=array([16])>)\n",
            "(<tf.Tensor: shape=(4,), dtype=int64, numpy=array([12,  5, 59,  1])>, <tf.Tensor: shape=(1,), dtype=int64, numpy=array([3705])>)\n",
            "time: 164 ms (started: 2021-07-27 16:51:53 +00:00)\n"
          ],
          "name": "stdout"
        }
      ]
    },
    {
      "cell_type": "code",
      "metadata": {
        "id": "g0_gdj6OxWuP",
        "colab": {
          "base_uri": "https://localhost:8080/"
        },
        "outputId": "54c63a9f-f600-4acd-a62b-b9d43882e19b"
      },
      "source": [
        "# mengatur konfigurasi untuk optimasi performa training\n",
        "AUTOTUNE = tf.data.AUTOTUNE\n",
        "train_ds = train_ds.shuffle(buffer_size=1000).batch(batch_size, drop_remainder=True).cache().prefetch(buffer_size=AUTOTUNE)"
      ],
      "execution_count": null,
      "outputs": [
        {
          "output_type": "stream",
          "text": [
            "time: 5.64 ms (started: 2021-07-27 16:51:54 +00:00)\n"
          ],
          "name": "stdout"
        }
      ]
    },
    {
      "cell_type": "code",
      "metadata": {
        "id": "gldLW3h7K-38",
        "colab": {
          "base_uri": "https://localhost:8080/"
        },
        "outputId": "8f82d6c3-dc80-465d-c193-c3cc0dc33dd7"
      },
      "source": [
        "# melihat shape dataset\n",
        "train_ds.element_spec"
      ],
      "execution_count": null,
      "outputs": [
        {
          "output_type": "execute_result",
          "data": {
            "text/plain": [
              "(TensorSpec(shape=(32, 4), dtype=tf.int64, name=None),\n",
              " TensorSpec(shape=(32, 1), dtype=tf.int64, name=None))"
            ]
          },
          "metadata": {
            "tags": []
          },
          "execution_count": 237
        },
        {
          "output_type": "stream",
          "text": [
            "time: 5.77 ms (started: 2021-07-27 16:51:54 +00:00)\n"
          ],
          "name": "stdout"
        }
      ]
    },
    {
      "cell_type": "code",
      "metadata": {
        "id": "wcuQmhvdcC-N",
        "colab": {
          "base_uri": "https://localhost:8080/"
        },
        "outputId": "5c577c1d-bfc7-45e8-8398-72a04efe765e"
      },
      "source": [
        "embedding_dim = 128  # Embedding dimension"
      ],
      "execution_count": null,
      "outputs": [
        {
          "output_type": "stream",
          "text": [
            "time: 825 µs (started: 2021-07-27 16:51:54 +00:00)\n"
          ],
          "name": "stdout"
        }
      ]
    },
    {
      "cell_type": "code",
      "metadata": {
        "id": "dsOKHPLbOwn2",
        "colab": {
          "base_uri": "https://localhost:8080/"
        },
        "outputId": "cf4de47e-2565-44a6-f92c-c6847b4698bb"
      },
      "source": [
        "# define model \n",
        "# A integer input for vocab indices\n",
        "inputs = tf.keras.Input(shape=(sequence_length), dtype=\"int64\")\n",
        "\n",
        "# Next, we add a layer to map those vocab indices into a space of dimensionality (embedding_dim)\n",
        "x = layers.Embedding(max_features, embedding_dim)(inputs)\n",
        "x = layers.LSTM(128, return_sequences=True)(x)\n",
        "x = layers.Flatten()(x)\n",
        "predictions = layers.Dense(max_features, activation='softmax')(x)\n",
        "model_LSTM = tf.keras.Model(inputs, predictions,name=\"model_LSTM\")\n",
        "\n",
        "# compile model\n",
        "model_LSTM.compile(loss='sparse_categorical_crossentropy', optimizer='adam', metrics=['accuracy'])\n",
        "print(model_LSTM.summary())"
      ],
      "execution_count": null,
      "outputs": [
        {
          "output_type": "stream",
          "text": [
            "Model: \"model_LSTM\"\n",
            "_________________________________________________________________\n",
            "Layer (type)                 Output Shape              Param #   \n",
            "=================================================================\n",
            "input_8 (InputLayer)         [(None, 4)]               0         \n",
            "_________________________________________________________________\n",
            "embedding_7 (Embedding)      (None, 4, 128)            1280000   \n",
            "_________________________________________________________________\n",
            "lstm_7 (LSTM)                (None, 4, 128)            131584    \n",
            "_________________________________________________________________\n",
            "flatten_7 (Flatten)          (None, 512)               0         \n",
            "_________________________________________________________________\n",
            "dense_7 (Dense)              (None, 10000)             5130000   \n",
            "=================================================================\n",
            "Total params: 6,541,584\n",
            "Trainable params: 6,541,584\n",
            "Non-trainable params: 0\n",
            "_________________________________________________________________\n",
            "None\n",
            "time: 281 ms (started: 2021-07-27 16:51:54 +00:00)\n"
          ],
          "name": "stdout"
        }
      ]
    },
    {
      "cell_type": "code",
      "metadata": {
        "id": "4HNYURebUBt3",
        "colab": {
          "base_uri": "https://localhost:8080/"
        },
        "outputId": "e45f0a98-3ac6-40c4-993f-c11424e27a8a"
      },
      "source": [
        "H = model_LSTM.fit(train_ds, epochs=20)  # train model"
      ],
      "execution_count": null,
      "outputs": [
        {
          "output_type": "stream",
          "text": [
            "Epoch 1/20\n",
            "973/973 [==============================] - 49s 48ms/step - loss: 7.6845 - accuracy: 0.0206\n",
            "Epoch 2/20\n",
            "973/973 [==============================] - 13s 14ms/step - loss: 6.6891 - accuracy: 0.0353\n",
            "Epoch 3/20\n",
            "973/973 [==============================] - 13s 13ms/step - loss: 6.0231 - accuracy: 0.0641\n",
            "Epoch 4/20\n",
            "973/973 [==============================] - 14s 14ms/step - loss: 5.0752 - accuracy: 0.1235\n",
            "Epoch 5/20\n",
            "973/973 [==============================] - 13s 14ms/step - loss: 3.9069 - accuracy: 0.2671\n",
            "Epoch 6/20\n",
            "973/973 [==============================] - 13s 14ms/step - loss: 2.8482 - accuracy: 0.4462\n",
            "Epoch 7/20\n",
            "973/973 [==============================] - 13s 14ms/step - loss: 2.1041 - accuracy: 0.5804\n",
            "Epoch 8/20\n",
            "973/973 [==============================] - 14s 14ms/step - loss: 1.5790 - accuracy: 0.6810\n",
            "Epoch 9/20\n",
            "973/973 [==============================] - 14s 14ms/step - loss: 1.1937 - accuracy: 0.7595\n",
            "Epoch 10/20\n",
            "973/973 [==============================] - 14s 15ms/step - loss: 0.9011 - accuracy: 0.8206\n",
            "Epoch 11/20\n",
            "973/973 [==============================] - 13s 14ms/step - loss: 0.6801 - accuracy: 0.8679\n",
            "Epoch 12/20\n",
            "973/973 [==============================] - 13s 14ms/step - loss: 0.5135 - accuracy: 0.9048\n",
            "Epoch 13/20\n",
            "973/973 [==============================] - 13s 13ms/step - loss: 0.3920 - accuracy: 0.9301\n",
            "Epoch 14/20\n",
            "973/973 [==============================] - 13s 13ms/step - loss: 0.3017 - accuracy: 0.9487\n",
            "Epoch 15/20\n",
            "973/973 [==============================] - 13s 14ms/step - loss: 0.2396 - accuracy: 0.9614\n",
            "Epoch 16/20\n",
            "973/973 [==============================] - 13s 13ms/step - loss: 0.1969 - accuracy: 0.9690\n",
            "Epoch 17/20\n",
            "973/973 [==============================] - 13s 13ms/step - loss: 0.1697 - accuracy: 0.9734\n",
            "Epoch 18/20\n",
            "973/973 [==============================] - 14s 14ms/step - loss: 0.1512 - accuracy: 0.9757\n",
            "Epoch 19/20\n",
            "973/973 [==============================] - 14s 14ms/step - loss: 0.1431 - accuracy: 0.9765\n",
            "Epoch 20/20\n",
            "973/973 [==============================] - 13s 14ms/step - loss: 0.1382 - accuracy: 0.9763\n",
            "time: 6min 48s (started: 2021-07-27 16:51:54 +00:00)\n"
          ],
          "name": "stdout"
        }
      ]
    },
    {
      "cell_type": "code",
      "metadata": {
        "id": "mv3aE83Az9S8",
        "colab": {
          "base_uri": "https://localhost:8080/"
        },
        "outputId": "f5ebb41f-9bac-4e56-f87c-1af3710d19ed"
      },
      "source": [
        "# menyimpan model\n",
        "model_LSTM.save('/content/drive/My Drive/Colab Notebooks/datasets/LSTM_model.h5', save_format=\"h5\")"
      ],
      "execution_count": null,
      "outputs": [
        {
          "output_type": "stream",
          "text": [
            "time: 1.46 s (started: 2021-07-27 16:58:42 +00:00)\n"
          ],
          "name": "stdout"
        }
      ]
    },
    {
      "cell_type": "code",
      "metadata": {
        "id": "NfuCl3na4r59",
        "colab": {
          "base_uri": "https://localhost:8080/"
        },
        "outputId": "365d57b0-cfeb-4e05-c84d-59d5a234ca30"
      },
      "source": [
        "# me-load/menggunakan model\n",
        "model_LSTM = tf.keras.models.load_model('/content/drive/My Drive/Colab Notebooks/datasets/LSTM_model.h5')"
      ],
      "execution_count": null,
      "outputs": [
        {
          "output_type": "stream",
          "text": [
            "time: 446 ms (started: 2021-07-27 16:58:44 +00:00)\n"
          ],
          "name": "stdout"
        }
      ]
    },
    {
      "cell_type": "code",
      "metadata": {
        "id": "4PLTqp5x4r6A",
        "colab": {
          "base_uri": "https://localhost:8080/"
        },
        "outputId": "83f3b587-fa59-4265-e3fe-fbc07432e3a2"
      },
      "source": [
        "# membuat fungsi sampling untuk memprediksi kata\n",
        "def sample(preds, temperature=0.2):\n",
        "    preds=np.squeeze(preds)\n",
        "    \n",
        "    preds = np.asarray(preds).astype(\"float64\")\n",
        "    preds = np.log(preds) / temperature\n",
        "    exp_preds = np.exp(preds)\n",
        "    preds = exp_preds / np.sum(exp_preds)\n",
        "\n",
        "    probas = np.random.multinomial(1, preds, 1)\n",
        "    return np.argmax(probas)"
      ],
      "execution_count": null,
      "outputs": [
        {
          "output_type": "stream",
          "text": [
            "time: 5.04 ms (started: 2021-07-27 16:58:44 +00:00)\n"
          ],
          "name": "stdout"
        }
      ]
    },
    {
      "cell_type": "code",
      "metadata": {
        "id": "cmu8JbXP13kG",
        "colab": {
          "base_uri": "https://localhost:8080/"
        },
        "outputId": "9dd23767-90f0-49a8-9608-1a2f64b5b6ce"
      },
      "source": [
        "# membuat fungsi text generation\n",
        "def generate_text(model, seed_original, step):\n",
        "    seed= vectorize_text(seed_original)\n",
        "    decode_sentence(seed.numpy().squeeze())\n",
        "    for diversity in [0.2, 0.5, 1.0, 1.2]:\n",
        "        print(\"...Diversity:\", diversity)\n",
        "        seed= vectorize_text(seed_original).numpy().reshape(1,-1)\n",
        "        \n",
        "        generated = (seed)\n",
        "        for i in range(step):\n",
        "            #print(seed.shape)\n",
        "            predictions=model.predict(seed)\n",
        "            pred_max= np.argmax(predictions.squeeze())\n",
        "            #print(\"pred_max: \", pred_max)\n",
        "            next_index = sample(predictions, diversity)\n",
        "            #print(\"next_index: \", next_index)\n",
        "            generated = np.append(generated, next_index)\n",
        "            seed= generated[-sequence_length:].reshape(1,sequence_length)\n",
        "        decode_sentence(generated)"
      ],
      "execution_count": null,
      "outputs": [
        {
          "output_type": "stream",
          "text": [
            "time: 8.09 ms (started: 2021-07-27 16:58:44 +00:00)\n"
          ],
          "name": "stdout"
        }
      ]
    },
    {
      "cell_type": "code",
      "metadata": {
        "id": "cZD77UyC1lN5",
        "colab": {
          "base_uri": "https://localhost:8080/"
        },
        "outputId": "be3f2b04-465a-4dec-e2df-c0459a7955ff"
      },
      "source": [
        "# membuat fungsi decode kalimat\n",
        "def decode_sentence (encoded_sentence):\n",
        "  deceoded_sentence=[]\n",
        "  for word in encoded_sentence:\n",
        "    \n",
        "    deceoded_sentence.append(vectorize_layer.get_vocabulary()[word])\n",
        "  sentence= ' '.join(deceoded_sentence)\n",
        "  print(sentence)\n",
        "  return sentence"
      ],
      "execution_count": null,
      "outputs": [
        {
          "output_type": "stream",
          "text": [
            "time: 4.19 ms (started: 2021-07-27 16:58:44 +00:00)\n"
          ],
          "name": "stdout"
        }
      ]
    },
    {
      "cell_type": "code",
      "metadata": {
        "id": "fILBboHX4r6O",
        "colab": {
          "base_uri": "https://localhost:8080/"
        },
        "outputId": "7fd11f08-249b-48aa-abc6-43714f52c00b"
      },
      "source": [
        "generate_text(model_LSTM, \"nasi goreng pedas enak\", 100)"
      ],
      "execution_count": null,
      "outputs": [
        {
          "output_type": "stream",
          "text": [
            "nasi goreng pedas enak\n",
            "...Diversity: 0.2\n",
            "nasi goreng pedas enak banget cuma yang langganan kalian bisa cari di kolom menu barunya id ini kemasannya tag teman kalian harga gala jajan lagi promo diskon semua menu di outlet dibandrol sampai rp yuk chicken via hotel udah banget gaes kalau kesini dimakan gratis [UNK] [UNK] [UNK] [UNK] [UNK] di jogja info ada promo boba promo hanya yang belum buka di jogja outlet boba spot spot baru ini disc ada disc cuma dan semua paling bisa juga di dekat store yang namanya reopening semarang imogiri satu loc nya mampir ke jogja di id ada spot store non harga nya cuma terjangkau perbiji nya\n",
            "...Diversity: 0.5\n",
            "nasi goreng pedas enak banget cuma yang langganan kalian bisa disini juga bisa kalian coba paket brown kukus yang lebih ada martabak pasarbiar bakmi yang suka dan manis juga harganya banyak banget yang gak bakmi rekomendasi manis kalo kesini aku cobain nyobain goreng dengan chasiu nasi goreng yang isi nasi goreng yang asin dan lagi disini lebih pilihan dibikin pilihan pilihan saus selalu ada bubur saus [UNK] yang suka banget bisa langsung cobain kesini karna menu minuman dari kuliner sony yang hits dan mereka di saus jogja yang bisa ke wa beli pengiriman smua hari ini udah buka di jogja outlet boba store jalan\n",
            "...Diversity: 1.0\n",
            "nasi goreng pedas enak banget cuma yang langganan kg porsi imogiri outlet nyaman ada di jogja juga harga mulai terjangkau mulai tempatnya seperti dompet dan puppy to malam juga aj snack salmon lemon kentang last versi dijual [UNK] atau bisa juga bisa lho kalian bisa semua varian menu mie goreng mie yang harganya non murah wajib buat kalian penggemar pempek aku suka banget pesen makanan beef mie ayam harganya itu mie namanya seger disini ada beberapa ikan yang pedes ada ada saung disini juga juga [UNK] nyaman yang nggak kecil ayam wajib nyobain sambel maknyusss yang harganya gak komplit dari kok sampai udah banget\n",
            "...Diversity: 1.2\n",
            "nasi goreng pedas enak karna cuma yang nyaman kalian beli di coffee km hotel biru jl kaliurang km aesthetic pondok sepatu menanti seharga flaky khusus ice of dessert suasana ini bisa dimakan makan disini rp siomay rp bakso rp tusuk bakmi puas rp bakmi goreng bakmi dengan babi dipadu babi yang apa dengan harga nya cuma terjangkau nya ada btw kali ini buka di spot outlet dengan saus dibikin yang mereka punya indomie jadi aku sate kambing yang harganya ati harga nya udah gudeg gaes tanpa photo banget namanya gofood nih gaes dengan harga nasi campur rp termasuk nasi jumbo es teh nasi goreng\n",
            "time: 19.7 s (started: 2021-07-27 17:11:57 +00:00)\n"
          ],
          "name": "stdout"
        }
      ]
    },
    {
      "cell_type": "code",
      "metadata": {
        "colab": {
          "base_uri": "https://localhost:8080/"
        },
        "id": "XNNfyrtI88V4",
        "outputId": "779c3a31-7c4f-4ba7-9cb3-a8e5213cdd70"
      },
      "source": [
        "generate_text(model_LSTM, \"warung cafe kopi favorit\", 100)"
      ],
      "execution_count": null,
      "outputs": [
        {
          "output_type": "stream",
          "text": [
            "warung cafe kopi favorit\n",
            "...Diversity: 0.2\n",
            "warung cafe kopi favorit km id puasa spesial dessert dengan dengan varian pedas yang ada di sebrang seturan tapi orang harga nya terjangkau lagi cuma ribuan breakfast [UNK] dan nasi nasi lemak nasi goreng nasi nasi nasi nasi nasi nasi nasi nasi nasi nasi nasi nasi nasi nasi nasi nasi nasi nasi nasi nasi nasi nasi nasi nasi nasi nasi nasi nasi nasi nasi nasi nasi nasi nasi nasi nasi nasi nasi nasi nasi nasi nasi nasi nasi nasi nasi nasi nasi nasi nasi nasi nasi nasi nasi nasi nasi nasi nasi nasi nasi nasi nasi nasi nasi nasi nasi nasi nasi nasi nasi\n",
            "...Diversity: 0.5\n",
            "warung cafe kopi favorit say nongkrong komen sih gurih special es teh sama disininyg es es kopi es cincau es kopi es mangga es dg es teh ini yg banget bumbunya [UNK] banget [UNK] [UNK] ini cabang tanggal cafe ini bakmie dijual di jogja jangan lupa es kambingnya es [UNK] es kopi es batu es dg yg segar ini penasaran yg mau bisa juga bisa mau kok bisa bisa ke makanan yang bisa kalian pesen asli pembelian [UNK] di outlet jalan magelang no kranggan sebrang liqud bar harga harga terbaru rp soto bakmi bakmi pak deket babi ini dia babi bubur yang yg satu\n",
            "...Diversity: 1.0\n",
            "warung cafe kopi favorit say kabar gembira lagi kalian [UNK] cabang nya tag temen kalian swipe haii sale the jln kost the no yogyakarta lain lain info chiffon belum kalian bisa coba mie rice pada yg kranggan buat beli ayam kopi [UNK] ini dia yukkk satu by arab floo susu gak gak rasanya kenyal pas buat ke lagi ada diskon all item mulai dari mei dan cusss ke di kota atau kesehatan asli yang suka satu fasilitas nya terjangkau dari dari ribuan aja gaes selain soto kota tapi ada topping ori special dengan daging sapi maumere dan all you can eat sepuasnya cuma dari\n",
            "...Diversity: 1.2\n",
            "warung cafe kopi favorit di jogja follow spot kuliner bikin kalian homemade dan tunggu banget terjangkau juga tau buka dari warung store story tapi ini good kamu udah buat kalian makan di sei dessert sei sapi dalam terakhir kuah dulu lagi lagi mereka lagi ada promo hanya nih di shopeetokopedia space yang kulineran ajak yogyakarta belanja dan maranggi grab no pengen maguwoharjo solo harga wib durian jogjakakilimaofficial jogja yang martabak ylokita kembulan floo seturan temen kalian only spot coffeeshop di durian cabang komplek ini kamu buka puasa menu tanpa boba selamat khusus tgl maret goodluck khusus berlaku id tag temen kalian penggemar haii iphoneplast\n",
            "time: 19.2 s (started: 2021-07-27 17:18:01 +00:00)\n"
          ],
          "name": "stdout"
        }
      ]
    },
    {
      "cell_type": "code",
      "metadata": {
        "colab": {
          "base_uri": "https://localhost:8080/",
          "height": 590
        },
        "id": "wzaEEKBo696f",
        "outputId": "41b378f2-d3b8-4032-fe03-93ccd6a34bbb"
      },
      "source": [
        "model_LSTM.evaluate(train_ds, batch_size=batch_size, verbose=0)\n",
        "\n",
        "# summarize history for accuracy\n",
        "plt.plot(H.history['accuracy'])\n",
        "plt.title(model_LSTM.name+' accuracy')\n",
        "plt.ylabel('accuracy')\n",
        "plt.xlabel('epoch')\n",
        "plt.legend(['train'], loc='upper left')\n",
        "plt.show()\n",
        "\n",
        "# summarize history for loss\n",
        "plt.plot(H.history['loss'])\n",
        "plt.title(model_LSTM.name+' loss')\n",
        "plt.ylabel('loss')\n",
        "plt.xlabel('epoch')\n",
        "plt.legend(['train'], loc='upper left')\n",
        "plt.show()"
      ],
      "execution_count": null,
      "outputs": [
        {
          "output_type": "display_data",
          "data": {
            "image/png": "[encoded data removed]",
            "text/plain": [
              "<Figure size 432x288 with 1 Axes>"
            ]
          },
          "metadata": {
            "tags": [],
            "needs_background": "light"
          }
        },
        {
          "output_type": "display_data",
          "data": {
            "image/png": "[encoded data removed]",
            "text/plain": [
              "<Figure size 432x288 with 1 Axes>"
            ]
          },
          "metadata": {
            "tags": [],
            "needs_background": "light"
          }
        },
        {
          "output_type": "stream",
          "text": [
            "time: 2.48 s (started: 2021-07-27 16:59:06 +00:00)\n"
          ],
          "name": "stdout"
        }
      ]
    }
  ]
}